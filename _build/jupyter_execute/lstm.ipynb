{
 "cells": [
  {
   "cell_type": "markdown",
   "id": "5bee403d",
   "metadata": {},
   "source": [
    "# Redes Neuronales Memoria Larga a Corto Plazo"
   ]
  }
 ],
 "metadata": {
  "language_info": {
   "name": "python"
  }
 },
 "nbformat": 4,
 "nbformat_minor": 5
}