{
 "cells": [
  {
   "cell_type": "markdown",
   "id": "59d1a3b5",
   "metadata": {},
   "source": [
    "# 5. Random Forest y XGBoost"
   ]
  }
 ],
 "metadata": {},
 "nbformat": 4,
 "nbformat_minor": 5
}
