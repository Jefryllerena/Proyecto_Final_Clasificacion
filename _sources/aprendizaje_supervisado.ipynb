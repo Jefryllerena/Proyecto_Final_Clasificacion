{
 "cells": [
  {
   "cell_type": "markdown",
   "id": "bbc4df66",
   "metadata": {},
   "source": [
    "# 1. Aprendizaje supervisado"
   ]
  }
 ],
 "metadata": {},
 "nbformat": 4,
 "nbformat_minor": 5
}
