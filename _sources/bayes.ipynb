{
 "cells": [
  {
   "cell_type": "markdown",
   "id": "c72c1ced",
   "metadata": {},
   "source": [
    "# 4. Clasificador Bayesiano"
   ]
  }
 ],
 "metadata": {},
 "nbformat": 4,
 "nbformat_minor": 5
}
