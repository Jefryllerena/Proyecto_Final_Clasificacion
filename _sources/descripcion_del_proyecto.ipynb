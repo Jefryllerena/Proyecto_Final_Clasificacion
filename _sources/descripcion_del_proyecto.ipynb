{
 "cells": [
  {
   "cell_type": "markdown",
   "metadata": {},
   "source": [
    "<h1 style=\"\n",
    "  background: linear-gradient(to right,rgb(0, 0, 108),rgb(159, 207, 255));\n",
    "  -webkit-background-clip: text;\n",
    "  -webkit-text-fill-color: transparent;\n",
    "  font-size: 37px;\n",
    "  font-weight: bold;\n",
    "\">\n",
    "  Proyecto Final: Modelos de Clasificación en Machine Learning Aplicados al Análisis y Predicción del Riesgo Crediticio\n",
    "</h1>\n",
    "\n",
    "**Por:** Angélica Sepúlveda, Andrés Pedraza y Jefry Llerena\n",
    "\n",
    "![Portada](machine-learning-scaled.png)"
   ]
  },
  {
   "cell_type": "markdown",
   "metadata": {},
   "source": [
    "<div style=\"border-left: 6px solid #3498db; border-radius: 6px; overflow: hidden; box-shadow: 0 1px 3px rgba(0,0,0,0.1); margin-top: 1rem;\">\n",
    "  <div style=\"background-color: #d0ebff; padding: 8px 12px;\">\n",
    "    <span style=\"font-weight: bold;\">📘 ESTRUCTURA DEL PROYECTO</span>\n",
    "  </div>\n",
    "  <div style=\"background-color: #f4f8fb; padding: 12px; font-size: 14px;\">\n",
    "    <ul>\n",
    "      <li><b>ANÁLISIS EXPLORATORIO DE LOS DATOS</b></li>\n",
    "      <li><b>MODELOS BENCHMARK Y RESULTADOS:</b>\n",
    "        <ul>\n",
    "          <li>Clasificación Bayesiana</li>\n",
    "          <li>K-Vecinos Más Cercanos <span style=\"color: purple;\">KNN</span></li>\n",
    "          <li>Regresión Logística Ridge y Lasso</li>\n",
    "          <li>Decision Tree</li>\n",
    "          <li>Random Forest</li>\n",
    "          <li>XGBoost</li>\n",
    "          <li>Máquinas de Soporte Vectorial <span style=\"color: blueviolet;\">SVM</span></li>\n",
    "          <li>Red Neuronal MLP</li>\n",
    "          <li>Red LSTM</li>\n",
    "          <li>Red Neuronales Convolucionales <span style=\"color: blueviolet;\">CNN</span></li>\n",
    "          <li>Red Neuronales Autoencoders</li>\n",
    "        </ul>\n",
    "      </li>\n",
    "      <li><b>MODELO ORIGINAL PROPUESTO</b></li>\n",
    "      <li><b>INFORME DEL PROYECTO</b></li>\n",
    "    </ul>\n",
    "  </div>\n",
    "</div>\n"
   ]
  }
 ],
 "metadata": {
  "kernelspec": {
   "display_name": "ml_venv",
   "language": "python",
   "name": "python3"
  },
  "language_info": {
   "codemirror_mode": {
    "name": "ipython",
    "version": 3
   },
   "file_extension": ".py",
   "mimetype": "text/x-python",
   "name": "python",
   "nbconvert_exporter": "python",
   "pygments_lexer": "ipython3",
   "version": "3.9.21"
  },
  "widgets": {
   "application/vnd.jupyter.widget-state+json": {
    "state": {},
    "version_major": 2,
    "version_minor": 0
   }
  }
 },
 "nbformat": 4,
 "nbformat_minor": 4
}
