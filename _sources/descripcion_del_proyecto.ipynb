{
 "cells": [
  {
   "cell_type": "markdown",
   "metadata": {},
   "source": [
    "<h1 style=\"\n",
    "  background: linear-gradient(to right,rgb(0, 0, 108),rgb(159, 207, 255));\n",
    "  -webkit-background-clip: text;\n",
    "  -webkit-text-fill-color: transparent;\n",
    "  font-size: 37px;\n",
    "  font-weight: bold;\n",
    "\">\n",
    "  Proyecto Final: Modelos de Clasificación en Machine Learning Aplicados al Análisis y Predicción del Riesgo Crediticio\n",
    "</h1>\n",
    "\n",
    "**Por:** Angélica Sepúlveda, Andrés Pedraza y Jefry Llerena\n",
    "\n",
    "![Portada](logo-uninorte.png)\n",
    "\n",
    "<div style=\"border-left: 6px solid #3498db; border-radius: 6px; overflow: hidden; box-shadow: 0 1px 3px rgba(0,0,0,0.1); margin-top: 1rem;\">\n",
    "  <div style=\"background-color: #d0ebff; padding: 8px 12px;\">\n",
    "    <span style=\"font-weight: bold;\">📘 ESTRUCTURA DEL PROYECTO</span>\n",
    "  </div>\n",
    "  <div style=\"background-color: #f4f8fb; padding: 12px; font-size: 14px;\">\n",
    "    <ul>\n",
    "      <li><b>ANÁLISIS EXPLORATORIO DE LOS DATOS</b></li>\n",
    "      <li><b>MODELOS BENCHMARK Y RESULTADOS:</b>\n",
    "        <ul>\n",
    "          <li>Clasificación Bayesiana</li>\n",
    "          <li>K-Vecinos Más Cercanos <span style=\"color: purple;\">KNN</span></li>\n",
    "          <li>Regresión Logística Ridge <span style=\"color: blueviolet;\">(L2)</span> y Lasso <span style=\"color: blueviolet;\">(L1)</span></li>\n",
    "          <li>Árboles de Decisión</li>\n",
    "          <li>Bosques Aleatorios</li>\n",
    "          <li>Potenciación de Gradiente Extremo <span style=\"color: blueviolet;\">XGBoost</span></li>\n",
    "          <li>Máquinas de Soporte Vectorial <span style=\"color: blueviolet;\">SVM</span></li>\n",
    "          <li>Redes Neuronales Perceptrón Multicapa <span style=\"color: blueviolet;\">MLP</span></li>\n",
    "          <li>Redes Neuronales Recurrentes <span style=\"color: blueviolet;\">RNN</span></li>\n",
    "          <li>Redes Neuronales Memoria Larga a Corto Plazo <span style=\"color: blueviolet;\">LSTM</span></li>\n",
    "          <li>Redes Neuronales Convolucionales <span style=\"color: blueviolet;\">CNN</span></li>\n",
    "          <li>Redes Neuronales Autoencoders</li>\n",
    "        </ul>\n",
    "      </li>\n",
    "    </ul>\n",
    "  </div>\n",
    "</div>\n"
   ]
  }
 ],
 "metadata": {
  "kernelspec": {
   "display_name": "ml_venv",
   "language": "python",
   "name": "python3"
  },
  "language_info": {
   "codemirror_mode": {
    "name": "ipython",
    "version": 3
   },
   "file_extension": ".py",
   "mimetype": "text/x-python",
   "name": "python",
   "nbconvert_exporter": "python",
   "pygments_lexer": "ipython3",
   "version": "3.9.21"
  },
  "widgets": {
   "application/vnd.jupyter.widget-state+json": {
    "state": {},
    "version_major": 2,
    "version_minor": 0
   }
  }
 },
 "nbformat": 4,
 "nbformat_minor": 4
}
