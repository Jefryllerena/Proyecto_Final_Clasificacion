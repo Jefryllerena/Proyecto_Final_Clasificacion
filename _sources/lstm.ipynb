{
 "cells": [
  {
   "cell_type": "markdown",
   "id": "5bee403d",
   "metadata": {},
   "source": [
    "<h1 style=\"\n",
    "  background: linear-gradient(to right,rgb(0, 0, 108),rgb(159, 207, 255));\n",
    "  -webkit-background-clip: text;\n",
    "  -webkit-text-fill-color: transparent;\n",
    "  font-size: 38px;\n",
    "  font-weight: bold;\n",
    "\">\n",
    "  10. Redes Neuronales Memoria Larga a Corto Plazo\n",
    "</h1>"
   ]
  }
 ],
 "metadata": {
  "language_info": {
   "name": "python"
  }
 },
 "nbformat": 4,
 "nbformat_minor": 5
}
