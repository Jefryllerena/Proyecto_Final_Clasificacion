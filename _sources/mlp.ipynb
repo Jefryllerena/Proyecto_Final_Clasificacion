{
 "cells": [
  {
   "cell_type": "markdown",
   "id": "9450f15b",
   "metadata": {},
   "source": [
    "# Redes Neuronales Perceptrón Multicapa"
   ]
  }
 ],
 "metadata": {
  "language_info": {
   "name": "python"
  }
 },
 "nbformat": 4,
 "nbformat_minor": 5
}
