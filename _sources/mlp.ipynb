{
 "cells": [
  {
   "cell_type": "markdown",
   "id": "705d53e1",
   "metadata": {},
   "source": [
    "# 11. Análisis de Componentes Principales"
   ]
  }
 ],
 "metadata": {},
 "nbformat": 4,
 "nbformat_minor": 5
}
