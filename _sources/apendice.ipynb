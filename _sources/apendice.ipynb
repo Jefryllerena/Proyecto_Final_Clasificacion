{
 "cells": [
  {
   "cell_type": "markdown",
   "id": "68c8e04d",
   "metadata": {},
   "source": [
    "# 14. Apéndice"
   ]
  }
 ],
 "metadata": {},
 "nbformat": 4,
 "nbformat_minor": 5
}
