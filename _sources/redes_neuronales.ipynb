{
 "cells": [
  {
   "cell_type": "markdown",
   "id": "cac724ec",
   "metadata": {},
   "source": [
    "# 10. Redes Neuronales y Deep Learning"
   ]
  }
 ],
 "metadata": {},
 "nbformat": 4,
 "nbformat_minor": 5
}
