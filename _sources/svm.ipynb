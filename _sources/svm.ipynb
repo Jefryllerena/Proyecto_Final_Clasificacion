{
 "cells": [
  {
   "cell_type": "markdown",
   "id": "084b4b08",
   "metadata": {},
   "source": [
    "<h1 style=\"\n",
    "  background: linear-gradient(to right,rgb(0, 0, 108),rgb(159, 207, 255));\n",
    "  -webkit-background-clip: text;\n",
    "  -webkit-text-fill-color: transparent;\n",
    "  font-size: 38px;\n",
    "  font-weight: bold;\n",
    "\">\n",
    "  7. Máquina de Soporte Vectorial\n",
    "</h1>"
   ]
  }
 ],
 "metadata": {
  "language_info": {
   "name": "python"
  }
 },
 "nbformat": 4,
 "nbformat_minor": 5
}
