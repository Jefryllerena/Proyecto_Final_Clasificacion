{
 "cells": [
  {
   "cell_type": "markdown",
   "id": "084b4b08",
   "metadata": {},
   "source": [
    "# Máquina de Soporte Vectorial"
   ]
  }
 ],
 "metadata": {
  "language_info": {
   "name": "python"
  }
 },
 "nbformat": 4,
 "nbformat_minor": 5
}
