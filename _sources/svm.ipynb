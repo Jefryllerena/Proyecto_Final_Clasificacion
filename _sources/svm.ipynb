{
 "cells": [
  {
   "cell_type": "markdown",
   "id": "9602887d",
   "metadata": {},
   "source": [
    "# 8. Máquinas de vectores de soporte"
   ]
  }
 ],
 "metadata": {},
 "nbformat": 4,
 "nbformat_minor": 5
}
