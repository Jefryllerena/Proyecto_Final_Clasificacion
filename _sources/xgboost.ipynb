{
 "cells": [
  {
   "cell_type": "markdown",
   "id": "bbc4df66",
   "metadata": {},
   "source": [
    "# 6. XGBOOST"
   ]
  }
 ],
 "metadata": {
  "language_info": {
   "name": "python"
  }
 },
 "nbformat": 4,
 "nbformat_minor": 5
}
