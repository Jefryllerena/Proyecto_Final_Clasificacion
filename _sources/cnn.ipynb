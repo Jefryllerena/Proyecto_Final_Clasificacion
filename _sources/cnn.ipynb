{
  "cells": [
    {
      "cell_type": "markdown",
      "metadata": {
        "id": "hZu6vqziib8h"
      },
      "source": [
        "# Red Neuronal Convolucional (CNN)\n"
      ]
    },
    {
      "cell_type": "markdown",
      "source": [
        "# Sección 1: Configuración Inicial y Preparación de Datos"
      ],
      "metadata": {
        "id": "8Jo76yYKpBwv"
      }
    },
    {
      "cell_type": "markdown",
      "metadata": {
        "id": "tNrBgZOZf5hS"
      },
      "source": [
        "## 1.Importación de Librerías"
      ]
    },
    {
      "cell_type": "code",
      "execution_count": 1,
      "metadata": {
        "id": "yDU3Y2BM8mPu"
      },
      "outputs": [],
      "source": [
        "# 1. IMPORTS\n",
        "\n",
        "import numpy as np\n",
        "import pandas as pd\n",
        "import time\n",
        "import os\n",
        "import pickle\n",
        "\n",
        "import matplotlib.pyplot as plt\n",
        "import seaborn as sns\n",
        "\n",
        "# Sklearn\n",
        "from sklearn.model_selection     import train_test_split\n",
        "from sklearn.impute              import SimpleImputer\n",
        "from sklearn.preprocessing       import StandardScaler, OneHotEncoder\n",
        "from sklearn.compose             import ColumnTransformer\n",
        "from sklearn.pipeline            import Pipeline\n",
        "from sklearn.metrics             import (\n",
        "    precision_score, recall_score, f1_score,\n",
        "    roc_auc_score, accuracy_score, confusion_matrix,\n",
        "    precision_recall_curve, average_precision_score,\n",
        "    roc_curve\n",
        ")\n",
        "from sklearn.calibration         import calibration_curve\n",
        "from sklearn.metrics             import ConfusionMatrixDisplay\n",
        "from scipy.stats                 import ks_2samp\n",
        "\n",
        "# TensorFlow / Keras\n",
        "import tensorflow as tf\n",
        "from tensorflow.keras.models     import Model\n",
        "from tensorflow.keras.layers     import (\n",
        "    Input, Conv1D, BatchNormalization, Dropout,\n",
        "    Flatten, Dense\n",
        ")\n",
        "from tensorflow.keras.callbacks  import EarlyStopping\n"
      ]
    },
    {
      "cell_type": "markdown",
      "metadata": {
        "id": "2Y5BgFxt--SG"
      },
      "source": [
        "## 2.Carga y División de Datos"
      ]
    },
    {
      "cell_type": "code",
      "execution_count": 2,
      "metadata": {
        "id": "6Hyr-sFY8m1x"
      },
      "outputs": [],
      "source": [
        "# 2. CARGA DE DATOS\n",
        "\n",
        "df = pd.read_csv(\"/content/credit_prueba.csv\")\n",
        "\n",
        "y = df[\"incumplimiento_credito\"]\n",
        "X = df.drop(columns=[\"incumplimiento_credito\"])\n",
        "\n",
        "X_train_raw, X_test_raw, y_train, y_test = train_test_split(\n",
        "    X, y, test_size=0.2, stratify=y, random_state=42\n",
        ")"
      ]
    },
    {
      "cell_type": "markdown",
      "metadata": {
        "id": "_24XwqW2-8BD"
      },
      "source": [
        "## 3.Preprocesamiento de Datos"
      ]
    },
    {
      "cell_type": "code",
      "execution_count": 3,
      "metadata": {
        "id": "Dvtx_07K8m4o"
      },
      "outputs": [],
      "source": [
        "# 3. PREPROCESAMIENTO\n",
        "num_cols = X.select_dtypes(include=[\"int64\",\"float64\"]).columns\n",
        "cat_cols = X.select_dtypes(include=[\"object\"]).columns\n",
        "\n",
        "num_tf = Pipeline([\n",
        "    (\"imp\", SimpleImputer(strategy=\"mean\")),\n",
        "    (\"sc\",  StandardScaler())\n",
        "])\n",
        "cat_tf = Pipeline([\n",
        "    (\"imp\", SimpleImputer(strategy=\"most_frequent\")),\n",
        "    (\"oh\",  OneHotEncoder(handle_unknown=\"ignore\"))\n",
        "])\n",
        "\n",
        "preprocessor = ColumnTransformer([\n",
        "    (\"num\", num_tf, num_cols),\n",
        "    (\"cat\", cat_tf, cat_cols),\n",
        "])\n",
        "\n",
        "X_train_scaled = preprocessor.fit_transform(X_train_raw)\n",
        "X_test_scaled  = preprocessor.transform(X_test_raw)\n",
        "\n"
      ]
    },
    {
      "cell_type": "code",
      "execution_count": 4,
      "metadata": {
        "id": "4pf5lpk4uEiV"
      },
      "outputs": [],
      "source": [
        "# 4. Formatear para Conv1D → tratamos cada feature como \"time step\"\n",
        "#    Shape: (n_samples, n_timesteps, 1_channel)\n",
        "n_feats = X_train_scaled.shape[1]\n",
        "X_train_seq = X_train_scaled.reshape(-1, n_feats, 1)\n",
        "X_test_seq  = X_test_scaled.reshape(-1, n_feats, 1)"
      ]
    },
    {
      "cell_type": "markdown",
      "source": [
        "# Sección 2: Definición de la Arquitectura CNN y GridSearch"
      ],
      "metadata": {
        "id": "BuczdD2GYWZ3"
      }
    },
    {
      "cell_type": "markdown",
      "metadata": {
        "id": "wDzC2-X2gJXz"
      },
      "source": [
        "## 1.Definición de la Arquitectura CNN"
      ]
    },
    {
      "cell_type": "code",
      "execution_count": 5,
      "metadata": {
        "id": "ufq438m_8kM0"
      },
      "outputs": [],
      "source": [
        "# 5. función de fábrica de modelos CNN\n",
        "def create_cnn_model(filters=32, kernel_size=3, dropout_rate=0.2):\n",
        "    inp = Input(shape=(n_feats, 1))\n",
        "    x   = Conv1D(filters=filters,\n",
        "                 kernel_size=kernel_size,\n",
        "                 padding=\"same\",\n",
        "                 activation=\"relu\")(inp)\n",
        "    x   = BatchNormalization()(x)\n",
        "    x   = Dropout(dropout_rate)(x)\n",
        "    x   = Flatten()(x)\n",
        "    x   = Dense(64, activation=\"relu\")(x)\n",
        "    x   = Dropout(dropout_rate)(x)\n",
        "    out = Dense(1, activation=\"sigmoid\")(x)\n",
        "\n",
        "    model = Model(inp, out, name=\"cnn_classifier\")\n",
        "    model.compile(\n",
        "        optimizer=\"adam\",\n",
        "        loss=\"binary_crossentropy\",\n",
        "        metrics=[\"accuracy\"]\n",
        "    )\n",
        "    return model\n"
      ]
    },
    {
      "cell_type": "markdown",
      "metadata": {
        "id": "8IJohPLKaxft"
      },
      "source": [
        "## 2.GridSearch de Hiperparámetros"
      ]
    },
    {
      "cell_type": "code",
      "execution_count": null,
      "metadata": {
        "colab": {
          "base_uri": "https://localhost:8080/"
        },
        "id": "NdDrP9O4CH14",
        "outputId": "48658b50-7728-4a15-a0dd-48526475e697"
      },
      "outputs": [
        {
          "output_type": "stream",
          "name": "stdout",
          "text": [
            "🔍 1/32 • {'batch_size': 32, 'dropout_rate': 0.2, 'epochs': 30, 'filters': 32, 'kernel_size': 3}\n",
            "\u001b[1m4/4\u001b[0m \u001b[32m━━━━━━━━━━━━━━━━━━━━\u001b[0m\u001b[37m\u001b[0m \u001b[1m0s\u001b[0m 28ms/step\n",
            "🔍 2/32 • {'batch_size': 32, 'dropout_rate': 0.2, 'epochs': 30, 'filters': 32, 'kernel_size': 5}\n",
            "\u001b[1m4/4\u001b[0m \u001b[32m━━━━━━━━━━━━━━━━━━━━\u001b[0m\u001b[37m\u001b[0m \u001b[1m0s\u001b[0m 30ms/step\n",
            "🔍 3/32 • {'batch_size': 32, 'dropout_rate': 0.2, 'epochs': 30, 'filters': 64, 'kernel_size': 3}\n"
          ]
        },
        {
          "output_type": "stream",
          "name": "stderr",
          "text": [
            "WARNING:tensorflow:5 out of the last 9 calls to <function TensorFlowTrainer.make_predict_function.<locals>.one_step_on_data_distributed at 0x791c3cd70c20> triggered tf.function retracing. Tracing is expensive and the excessive number of tracings could be due to (1) creating @tf.function repeatedly in a loop, (2) passing tensors with different shapes, (3) passing Python objects instead of tensors. For (1), please define your @tf.function outside of the loop. For (2), @tf.function has reduce_retracing=True option that can avoid unnecessary retracing. For (3), please refer to https://www.tensorflow.org/guide/function#controlling_retracing and https://www.tensorflow.org/api_docs/python/tf/function for  more details.\n"
          ]
        },
        {
          "output_type": "stream",
          "name": "stdout",
          "text": [
            "\r\u001b[1m1/4\u001b[0m \u001b[32m━━━━━\u001b[0m\u001b[37m━━━━━━━━━━━━━━━\u001b[0m \u001b[1m0s\u001b[0m 101ms/step"
          ]
        },
        {
          "output_type": "stream",
          "name": "stderr",
          "text": [
            "WARNING:tensorflow:6 out of the last 12 calls to <function TensorFlowTrainer.make_predict_function.<locals>.one_step_on_data_distributed at 0x791c3cd70c20> triggered tf.function retracing. Tracing is expensive and the excessive number of tracings could be due to (1) creating @tf.function repeatedly in a loop, (2) passing tensors with different shapes, (3) passing Python objects instead of tensors. For (1), please define your @tf.function outside of the loop. For (2), @tf.function has reduce_retracing=True option that can avoid unnecessary retracing. For (3), please refer to https://www.tensorflow.org/guide/function#controlling_retracing and https://www.tensorflow.org/api_docs/python/tf/function for  more details.\n"
          ]
        },
        {
          "output_type": "stream",
          "name": "stdout",
          "text": [
            "\u001b[1m4/4\u001b[0m \u001b[32m━━━━━━━━━━━━━━━━━━━━\u001b[0m\u001b[37m\u001b[0m \u001b[1m0s\u001b[0m 36ms/step\n",
            "🔍 4/32 • {'batch_size': 32, 'dropout_rate': 0.2, 'epochs': 30, 'filters': 64, 'kernel_size': 5}\n",
            "\u001b[1m4/4\u001b[0m \u001b[32m━━━━━━━━━━━━━━━━━━━━\u001b[0m\u001b[37m\u001b[0m \u001b[1m0s\u001b[0m 28ms/step\n",
            "🔍 5/32 • {'batch_size': 32, 'dropout_rate': 0.2, 'epochs': 50, 'filters': 32, 'kernel_size': 3}\n"
          ]
        }
      ],
      "source": [
        "# 6. Grid de hiperparámetros\n",
        "from sklearn.model_selection import ParameterGrid\n",
        "\n",
        "param_grid = {\n",
        "    \"filters\":     [32, 64],\n",
        "    \"kernel_size\": [3, 5],\n",
        "    \"dropout_rate\":[0.2, 0.3],\n",
        "    \"batch_size\":  [32, 64],\n",
        "    \"epochs\":      [30, 50]\n",
        "}\n",
        "\n",
        "grid = list(ParameterGrid(param_grid))\n",
        "results = []\n",
        "\n",
        "for i, params in enumerate(grid, 1):\n",
        "    print(f\"🔍 {i}/{len(grid)} • {params}\")\n",
        "    tf.keras.backend.clear_session()\n",
        "    cnn = create_cnn_model(\n",
        "        filters=params[\"filters\"],\n",
        "        kernel_size=params[\"kernel_size\"],\n",
        "        dropout_rate=params[\"dropout_rate\"]\n",
        "    )\n",
        "    es = EarlyStopping(monitor=\"val_loss\", patience=5, restore_best_weights=True)\n",
        "\n",
        "    t0 = time.time()\n",
        "    hist = cnn.fit(\n",
        "        X_train_seq, y_train,\n",
        "        validation_split=0.2,\n",
        "        epochs=params[\"epochs\"],\n",
        "        batch_size=params[\"batch_size\"],\n",
        "        callbacks=[es],\n",
        "        verbose=0\n",
        "    )\n",
        "    fit_time = (time.time() - t0) / 60  # minutos\n",
        "\n",
        "    # predicciones\n",
        "    y_proba = cnn.predict(X_test_seq).ravel()\n",
        "    y_pred  = (y_proba >= 0.5).astype(int)\n",
        "\n",
        "    # métricas\n",
        "    metrics = {\n",
        "        **params,\n",
        "        \"accuracy\":    accuracy_score(y_test, y_pred),\n",
        "        \"precision\":   precision_score(y_test, y_pred, zero_division=0),\n",
        "        \"recall\":      recall_score(y_test, y_pred, zero_division=0),\n",
        "        \"f1\":          f1_score(y_test, y_pred, zero_division=0),\n",
        "        \"auc\":         roc_auc_score(y_test, y_proba),\n",
        "        \"ap\":          average_precision_score(y_test, y_proba),\n",
        "        \"fit_minutes\": round(fit_time, 2),\n",
        "        \"history\":     hist.history,\n",
        "        \"y_proba\":     y_proba,\n",
        "        \"y_pred\":      y_pred,\n",
        "        \"model\":       cnn\n",
        "    }\n",
        "    results.append(metrics)\n"
      ]
    },
    {
      "cell_type": "code",
      "execution_count": null,
      "metadata": {
        "id": "WYcYAeeTGuBL"
      },
      "outputs": [],
      "source": [
        "# 7. DataFrame resumen y mejor combinación por recall\n",
        "df_res = pd.DataFrame(results)\n",
        "df_res = df_res.sort_values(\"recall\", ascending=False).reset_index(drop=True)\n",
        "\n",
        "# Mostrar top 5 configuraciones\n",
        "df_viz = df_res[[\n",
        "    \"filters\",\"kernel_size\",\"dropout_rate\",\"batch_size\",\"epochs\",\n",
        "    \"accuracy\",\"precision\",\"recall\",\"f1\",\"auc\",\"ap\",\"fit_minutes\"\n",
        "]].round({\n",
        "    \"accuracy\":4,\"precision\":4,\"recall\":4,\"f1\":4,\"auc\":4,\"ap\":4\n",
        "})\n",
        "display(\n",
        "    df_viz.head(5).style\n",
        "        .set_caption(\"Top 5 Configuraciones CNN\")\n",
        "        .background_gradient(subset=[\"recall\",\"auc\"], cmap=\"Blues\")\n",
        "        .highlight_max(\"recall\", color=\"salmon\")\n",
        ")\n",
        "best = df_res.iloc[0]\n",
        "print(f\"➡️ Mejor modelo CNN por Recall: filters={best.filters}, ks={best.kernel_size}, dr={best.dropout_rate}\")\n"
      ]
    },
    {
      "cell_type": "code",
      "source": [
        "cnn_best   = best[\"model\"]\n",
        "hist_best  = best[\"history\"]\n",
        "y_proba_b  = best[\"y_proba\"]\n",
        "y_pred_b   = best[\"y_pred\"]\n",
        "fit_min    = best[\"fit_minutes\"]"
      ],
      "metadata": {
        "id": "COvGJB_d5l_f"
      },
      "execution_count": null,
      "outputs": []
    },
    {
      "cell_type": "markdown",
      "source": [
        "# Sección 3: Evaluación Básica del Modelo"
      ],
      "metadata": {
        "id": "gH4h0bEVY5iB"
      }
    },
    {
      "cell_type": "markdown",
      "source": [
        "## 1.Curva de Entrenamiento (Loss Curve)\n"
      ],
      "metadata": {
        "id": "aqYvRs5zj6-O"
      }
    },
    {
      "cell_type": "code",
      "execution_count": null,
      "metadata": {
        "id": "BA7xIp269r2h"
      },
      "outputs": [],
      "source": [
        "# 3.1 Curva de pérdida\n",
        "plt.plot(hist_best[\"loss\"], label=\"train\")\n",
        "plt.plot(hist_best[\"val_loss\"], label=\"val\")\n",
        "plt.title(\"Loss Curve — CNN\")\n",
        "plt.xlabel(\"Épocas\"); plt.ylabel(\"Loss\")\n",
        "plt.legend(); plt.grid(True); plt.show()\n"
      ]
    },
    {
      "cell_type": "markdown",
      "source": [
        "\n",
        "## 2.Tabla de Hiperparámetros Óptimos\n"
      ],
      "metadata": {
        "id": "7WRz9XukkCxh"
      }
    },
    {
      "cell_type": "code",
      "execution_count": null,
      "metadata": {
        "id": "QFiXpbIMHsZA",
        "collapsed": true
      },
      "outputs": [],
      "source": [
        "# 1️⃣ Asegúrate de tener tu DataFrame de resultados ordenado por recall:\n",
        "df_res = pd.DataFrame(results)\n",
        "df_res = df_res.sort_values(\"recall\", ascending=False).reset_index(drop=True)\n",
        "\n",
        "# 2️⃣ Extrae la mejor configuración (primera fila)\n",
        "mejor = df_res.iloc[0]\n",
        "\n",
        "# 3️⃣ Construye la tabla de hiperparámetros óptimos\n",
        "df_hiperopt = pd.DataFrame([{\n",
        "    \"Filtros (Conv1D)\": mejor[\"filters\"],\n",
        "    \"Kernel Size\":      mejor[\"kernel_size\"],\n",
        "    \"Dropout Rate\":     mejor[\"dropout_rate\"],\n",
        "    \"Batch Size\":       mejor[\"batch_size\"],\n",
        "    \"Épocas\":           mejor[\"epochs\"],\n",
        "    \"Recall\":           mejor[\"recall\"],\n",
        "    \"AUC\":              mejor[\"auc\"],\n",
        "    \"Fit Time (min)\":   mejor[\"fit_minutes\"]\n",
        "}])\n",
        "\n",
        "# 4️⃣ Muestra con estilo\n",
        "display(\n",
        "    df_hiperopt.style\n",
        "        .format({\n",
        "            \"Dropout Rate\":   \"{:.2f}\",\n",
        "            \"Recall\":         \"{:.4f}\",\n",
        "            \"AUC\":            \"{:.4f}\",\n",
        "            \"Fit Time (min)\": \"{:.2f}\"\n",
        "        })\n",
        "        .set_caption(\"Hiperparámetros Óptimos — CNN\")\n",
        "        .background_gradient(subset=[\"Recall\",\"AUC\"], cmap=\"Blues\")\n",
        ")\n"
      ]
    },
    {
      "cell_type": "markdown",
      "source": [
        "## 3.Métricas de Desempeño del Modelo"
      ],
      "metadata": {
        "id": "ZKiP0SeXimjN"
      }
    },
    {
      "cell_type": "code",
      "source": [
        "# DataFrame con una fila, índice \"CNN\" y columnas [\"Accuracy\",\"Precision\",...,\"AUC\",...]\n",
        "df_metrics = pd.DataFrame([metrics_cnn], index=[\"CNN\"])\n",
        "\n",
        "display(\n",
        "    df_metrics.style\n",
        "        .format(\"{:.4f}\")\n",
        "        .set_caption(\"Métricas Finales — Mejor CNN\")\n",
        "        .background_gradient(subset=[\"Recall\",\"AUC\"], cmap=\"Purples\")\n",
        ")\n"
      ],
      "metadata": {
        "id": "0IplSloh6B7W"
      },
      "execution_count": null,
      "outputs": []
    },
    {
      "cell_type": "markdown",
      "source": [
        "## 4.Matriz de Confusión sin Técnicas de Balanceo"
      ],
      "metadata": {
        "id": "Qf-6GPBrcfX8"
      }
    },
    {
      "cell_type": "code",
      "execution_count": null,
      "metadata": {
        "id": "3Js4yeAwBF_F"
      },
      "outputs": [],
      "source": [
        "# Matriz de Confusión\n",
        "cm = confusion_matrix(y_test, y_pred_b)\n",
        "disp = ConfusionMatrixDisplay(confusion_matrix=cm)\n",
        "disp.plot(cmap=\"Pastel1\")\n",
        "plt.title(\"Matriz de Confusión — CNN\"); plt.show()"
      ]
    },
    {
      "cell_type": "markdown",
      "metadata": {
        "id": "Bl6x_yrFA3JW"
      },
      "source": [
        "## 5.Curva ROC"
      ]
    },
    {
      "cell_type": "code",
      "execution_count": null,
      "metadata": {
        "id": "1B1I8bwqA58O"
      },
      "outputs": [],
      "source": [
        "# 3.3 Curva ROC & AUC\n",
        "fpr, tpr, _ = roc_curve(y_test, y_proba_b)\n",
        "auc_score   = roc_auc_score(y_test, y_proba_b)\n",
        "plt.plot(fpr, tpr, label=f\"AUC={auc_score:.2f}\")\n",
        "plt.plot([0,1],[0,1],\"--\",color=\"gray\")\n",
        "plt.title(\"ROC Curve — CNN\")\n",
        "plt.xlabel(\"FPR\"); plt.ylabel(\"TPR\")\n",
        "plt.legend(); plt.grid(True); plt.show()\n"
      ]
    },
    {
      "cell_type": "markdown",
      "metadata": {
        "id": "Uxm_9K4wA8Vt"
      },
      "source": [
        "## 6.Curva Precision–Recall"
      ]
    },
    {
      "cell_type": "code",
      "execution_count": null,
      "metadata": {
        "id": "jiTEuPl0A-fN"
      },
      "outputs": [],
      "source": [
        "# 3.4 Precision-Recall\n",
        "prec, rec, _ = precision_recall_curve(y_test, y_proba_b)\n",
        "ap_score     = average_precision_score(y_test, y_proba_b)\n",
        "plt.plot(rec, prec, label=f\"AP={ap_score:.2f}\")\n",
        "plt.title(\"Precision-Recall — CNN\")\n",
        "plt.xlabel(\"Recall\"); plt.ylabel(\"Precision\")\n",
        "plt.legend(); plt.grid(True); plt.show()\n"
      ]
    },
    {
      "cell_type": "markdown",
      "metadata": {
        "id": "81dPGnvTdUiN"
      },
      "source": [
        "## 7.Curva KS (Kolmogorov–Smirnov)"
      ]
    },
    {
      "cell_type": "code",
      "execution_count": null,
      "metadata": {
        "id": "cQfG5rB1dBW7"
      },
      "outputs": [],
      "source": [
        "# 3.5 KS Chart\n",
        "pos = y_proba_b[y_test==1]\n",
        "neg = y_proba_b[y_test==0]\n",
        "ks_stat, _ = ks_2samp(pos, neg)\n",
        "x = np.linspace(0,1,100)\n",
        "cdf_pos = [np.mean(pos<=xi) for xi in x]\n",
        "cdf_neg = [np.mean(neg<=xi) for xi in x]\n",
        "plt.plot(x, cdf_pos, label=\"CDF Pos\")\n",
        "plt.plot(x, cdf_neg, label=\"CDF Neg\")\n",
        "plt.title(f\"KS Chart — KS={ks_stat:.2f}\")\n",
        "plt.xlabel(\"Probabilidad\"); plt.ylabel(\"CDF\")\n",
        "plt.legend(); plt.grid(True); plt.show()\n"
      ]
    },
    {
      "cell_type": "markdown",
      "source": [
        "# Sección 4: Evaluación Avanzada del Modelo"
      ],
      "metadata": {
        "id": "cjx13tKYmJ4r"
      }
    },
    {
      "cell_type": "markdown",
      "metadata": {
        "id": "Fw7yfT5ddfkX"
      },
      "source": [
        "## 1.Curva de Ganancias Acumuladas / Lift Chart"
      ]
    },
    {
      "cell_type": "code",
      "execution_count": null,
      "metadata": {
        "id": "sk38omstdBcJ"
      },
      "outputs": [],
      "source": [
        "import numpy as np\n",
        "\n",
        "def plot_cumulative_gain(y_true, y_proba):\n",
        "    sorted_indices = np.argsort(y_proba)[::-1]\n",
        "    y_sorted = np.array(y_true)[sorted_indices]\n",
        "    cumulative_gain = np.cumsum(y_sorted) / sum(y_sorted)\n",
        "    percentage_samples = np.arange(1, len(y_sorted) + 1) / len(y_sorted)\n",
        "\n",
        "    plt.plot(percentage_samples, cumulative_gain, label=\"Modelo\")\n",
        "    plt.plot([0, 1], [0, 1], 'k--', label=\"Aleatorio\")\n",
        "    plt.xlabel(\"Porcentaje de muestras evaluadas\")\n",
        "    plt.ylabel(\"Porcentaje acumulado de positivos\")\n",
        "    plt.title(\"Curva de Ganancia Acumulada\")\n",
        "    plt.legend()\n",
        "    plt.grid()\n",
        "    plt.show()\n",
        "\n",
        "plot_cumulative_gain(y_test, y_proba_b)\n"
      ]
    },
    {
      "cell_type": "markdown",
      "metadata": {
        "id": "-Kwfg5b7dmq3"
      },
      "source": [
        "## 2.Radar Plot de métricas por técnica"
      ]
    },
    {
      "cell_type": "code",
      "execution_count": null,
      "metadata": {
        "id": "sQ2OOKxpdBhj"
      },
      "outputs": [],
      "source": [
        "import matplotlib.pyplot as plt\n",
        "import numpy as np\n",
        "\n",
        "# Métricas del modelo\n",
        "metrics_cnn = {\n",
        "    \"Accuracy\": accuracy_score(y_test, y_pred_b),\n",
        "    \"Precision\": precision_score(y_test, y_pred_b, zero_division=0),\n",
        "    \"Recall\": recall_score(y_test, y_pred_b, zero_division=0),\n",
        "    \"F1\": f1_score(y_test, y_pred_b, zero_division=0),\n",
        "    \"AUC\": roc_auc_score(y_test, y_proba_b),\n",
        "    \"AP\": average_precision_score(y_test, y_proba_b)\n",
        "}\n",
        "\n",
        "# Convertir a valores para radar\n",
        "labels = list(metrics_cnn.keys())\n",
        "values = list(metrics_cnn.values())\n",
        "values += values[:1]  # cerrar la figura circularmente\n",
        "\n",
        "# Ángulos para cada eje\n",
        "angles = np.linspace(0, 2 * np.pi, len(labels), endpoint=False).tolist()\n",
        "angles += angles[:1]\n",
        "\n",
        "# Radar plot\n",
        "fig, ax = plt.subplots(figsize=(6, 6), subplot_kw=dict(polar=True))\n",
        "ax.plot(angles, values, linewidth=2, linestyle='solid', label=\"CNN\")\n",
        "ax.fill(angles, values, alpha=0.25)\n",
        "\n",
        "# Personalización\n",
        "ax.set_theta_offset(np.pi / 2)\n",
        "ax.set_theta_direction(-1)\n",
        "ax.set_thetagrids(np.degrees(angles[:-1]), labels)\n",
        "ax.set_title(\"Radar de Métricas del Modelo CNN\")\n",
        "ax.set_ylim(0, 1)\n",
        "ax.legend(loc='upper right', bbox_to_anchor=(1.3, 1.1))\n",
        "plt.grid(True)\n",
        "plt.tight_layout()\n",
        "plt.show()\n"
      ]
    },
    {
      "cell_type": "markdown",
      "metadata": {
        "id": "TV5Dcb_idCKW"
      },
      "source": [
        "## 3.Curva de Calibración (Reliability Curve)"
      ]
    },
    {
      "cell_type": "code",
      "execution_count": null,
      "metadata": {
        "id": "T6Ivw-WOdDZu"
      },
      "outputs": [],
      "source": [
        "from sklearn.calibration import calibration_curve\n",
        "import matplotlib.pyplot as plt\n",
        "import numpy as np\n",
        "\n",
        "# y_test: verdaderas etiquetas\n",
        "# y_proba: probabilidades predichas por el modelo para la clase positiva (1)\n",
        "\n",
        "# Calcular la curva de calibración\n",
        "prob_true, prob_pred = calibration_curve(y_test, y_proba, n_bins=10, strategy='uniform')\n",
        "\n",
        "# Graficar la curva de calibración\n",
        "plt.figure(figsize=(6, 6))\n",
        "plt.plot(prob_pred, prob_true, marker='o', label='Modelo')\n",
        "plt.plot([0, 1], [0, 1], linestyle='--', label='Perfectamente Calibrado', color='gray')\n",
        "plt.xlabel(\"Probabilidad Predicha\")\n",
        "plt.ylabel(\"Frecuencia Real Observada\")\n",
        "plt.title(\"Curva de Calibración (Reliability Curve)\")\n",
        "plt.legend()\n",
        "plt.grid()\n",
        "plt.tight_layout()\n",
        "plt.show()\n"
      ]
    },
    {
      "cell_type": "markdown",
      "metadata": {
        "id": "ksRkTv8QfwTM"
      },
      "source": [
        "# Sección 5: Guardar Resultados"
      ]
    },
    {
      "cell_type": "code",
      "execution_count": null,
      "metadata": {
        "colab": {
          "base_uri": "https://localhost:8080/"
        },
        "id": "ItxFr5nAfxZS",
        "outputId": "96461b0c-bae7-432d-e0e2-a6c3e50b1168"
      },
      "outputs": [
        {
          "name": "stdout",
          "output_type": "stream",
          "text": [
            "✅ Resultados guardados como CSV.\n"
          ]
        },
        {
          "name": "stderr",
          "output_type": "stream",
          "text": [
            "WARNING:absl:Found untraced functions such as lstm_cell_layer_call_fn, lstm_cell_layer_call_and_return_conditional_losses, lstm_cell_1_layer_call_fn, lstm_cell_1_layer_call_and_return_conditional_losses while saving (showing 4 of 4). These functions will not be directly callable after loading.\n"
          ]
        },
        {
          "name": "stdout",
          "output_type": "stream",
          "text": [
            "INFO:tensorflow:Assets written to: ram://968a2617-d052-46aa-82e5-c0db4abb9732/assets\n"
          ]
        },
        {
          "name": "stderr",
          "output_type": "stream",
          "text": [
            "INFO:tensorflow:Assets written to: ram://968a2617-d052-46aa-82e5-c0db4abb9732/assets\n",
            "WARNING:absl:Found untraced functions such as lstm_cell_2_layer_call_fn, lstm_cell_2_layer_call_and_return_conditional_losses, lstm_cell_3_layer_call_fn, lstm_cell_3_layer_call_and_return_conditional_losses while saving (showing 4 of 4). These functions will not be directly callable after loading.\n"
          ]
        },
        {
          "name": "stdout",
          "output_type": "stream",
          "text": [
            "INFO:tensorflow:Assets written to: ram://3fbee07c-0aa5-46a5-9a30-83c0dfd0451f/assets\n"
          ]
        },
        {
          "name": "stderr",
          "output_type": "stream",
          "text": [
            "INFO:tensorflow:Assets written to: ram://3fbee07c-0aa5-46a5-9a30-83c0dfd0451f/assets\n",
            "WARNING:absl:Found untraced functions such as lstm_cell_4_layer_call_fn, lstm_cell_4_layer_call_and_return_conditional_losses, lstm_cell_5_layer_call_fn, lstm_cell_5_layer_call_and_return_conditional_losses while saving (showing 4 of 4). These functions will not be directly callable after loading.\n"
          ]
        },
        {
          "name": "stdout",
          "output_type": "stream",
          "text": [
            "INFO:tensorflow:Assets written to: ram://6a30c2aa-9a8e-45fe-84fa-0e5ce87d2930/assets\n"
          ]
        },
        {
          "name": "stderr",
          "output_type": "stream",
          "text": [
            "INFO:tensorflow:Assets written to: ram://6a30c2aa-9a8e-45fe-84fa-0e5ce87d2930/assets\n",
            "WARNING:absl:Found untraced functions such as lstm_cell_6_layer_call_fn, lstm_cell_6_layer_call_and_return_conditional_losses, lstm_cell_7_layer_call_fn, lstm_cell_7_layer_call_and_return_conditional_losses while saving (showing 4 of 4). These functions will not be directly callable after loading.\n"
          ]
        },
        {
          "name": "stdout",
          "output_type": "stream",
          "text": [
            "INFO:tensorflow:Assets written to: ram://3d3bdcb0-d4dc-4aa5-b225-ed70c8f1b1a7/assets\n"
          ]
        },
        {
          "name": "stderr",
          "output_type": "stream",
          "text": [
            "INFO:tensorflow:Assets written to: ram://3d3bdcb0-d4dc-4aa5-b225-ed70c8f1b1a7/assets\n",
            "WARNING:absl:Found untraced functions such as lstm_cell_8_layer_call_fn, lstm_cell_8_layer_call_and_return_conditional_losses, lstm_cell_9_layer_call_fn, lstm_cell_9_layer_call_and_return_conditional_losses while saving (showing 4 of 4). These functions will not be directly callable after loading.\n"
          ]
        },
        {
          "name": "stdout",
          "output_type": "stream",
          "text": [
            "INFO:tensorflow:Assets written to: ram://39d1cae6-4884-49ce-abda-5aa00e540f3d/assets\n"
          ]
        },
        {
          "name": "stderr",
          "output_type": "stream",
          "text": [
            "INFO:tensorflow:Assets written to: ram://39d1cae6-4884-49ce-abda-5aa00e540f3d/assets\n",
            "WARNING:absl:Found untraced functions such as lstm_cell_10_layer_call_fn, lstm_cell_10_layer_call_and_return_conditional_losses, lstm_cell_11_layer_call_fn, lstm_cell_11_layer_call_and_return_conditional_losses while saving (showing 4 of 4). These functions will not be directly callable after loading.\n"
          ]
        },
        {
          "name": "stdout",
          "output_type": "stream",
          "text": [
            "INFO:tensorflow:Assets written to: ram://a33456df-7af3-418e-b427-3817528605ff/assets\n"
          ]
        },
        {
          "name": "stderr",
          "output_type": "stream",
          "text": [
            "INFO:tensorflow:Assets written to: ram://a33456df-7af3-418e-b427-3817528605ff/assets\n",
            "WARNING:absl:Found untraced functions such as lstm_cell_12_layer_call_fn, lstm_cell_12_layer_call_and_return_conditional_losses, lstm_cell_13_layer_call_fn, lstm_cell_13_layer_call_and_return_conditional_losses while saving (showing 4 of 4). These functions will not be directly callable after loading.\n"
          ]
        },
        {
          "name": "stdout",
          "output_type": "stream",
          "text": [
            "INFO:tensorflow:Assets written to: ram://2692725f-7b6a-4ffc-aa7f-3e237e1cb066/assets\n"
          ]
        },
        {
          "name": "stderr",
          "output_type": "stream",
          "text": [
            "INFO:tensorflow:Assets written to: ram://2692725f-7b6a-4ffc-aa7f-3e237e1cb066/assets\n",
            "WARNING:absl:Found untraced functions such as lstm_cell_14_layer_call_fn, lstm_cell_14_layer_call_and_return_conditional_losses, lstm_cell_15_layer_call_fn, lstm_cell_15_layer_call_and_return_conditional_losses while saving (showing 4 of 4). These functions will not be directly callable after loading.\n"
          ]
        },
        {
          "name": "stdout",
          "output_type": "stream",
          "text": [
            "INFO:tensorflow:Assets written to: ram://e2b80dee-b4bb-4f53-9dfe-d9ad89ca8583/assets\n"
          ]
        },
        {
          "name": "stderr",
          "output_type": "stream",
          "text": [
            "INFO:tensorflow:Assets written to: ram://e2b80dee-b4bb-4f53-9dfe-d9ad89ca8583/assets\n",
            "WARNING:absl:Found untraced functions such as lstm_cell_16_layer_call_fn, lstm_cell_16_layer_call_and_return_conditional_losses, lstm_cell_17_layer_call_fn, lstm_cell_17_layer_call_and_return_conditional_losses while saving (showing 4 of 4). These functions will not be directly callable after loading.\n"
          ]
        },
        {
          "name": "stdout",
          "output_type": "stream",
          "text": [
            "INFO:tensorflow:Assets written to: ram://22e75f5f-7af9-4d2b-b569-ee17928e56c8/assets\n"
          ]
        },
        {
          "name": "stderr",
          "output_type": "stream",
          "text": [
            "INFO:tensorflow:Assets written to: ram://22e75f5f-7af9-4d2b-b569-ee17928e56c8/assets\n",
            "WARNING:absl:Found untraced functions such as lstm_cell_18_layer_call_fn, lstm_cell_18_layer_call_and_return_conditional_losses, lstm_cell_19_layer_call_fn, lstm_cell_19_layer_call_and_return_conditional_losses while saving (showing 4 of 4). These functions will not be directly callable after loading.\n"
          ]
        },
        {
          "name": "stdout",
          "output_type": "stream",
          "text": [
            "INFO:tensorflow:Assets written to: ram://a66968f3-3e87-48f0-b3fc-7871aae702f2/assets\n"
          ]
        },
        {
          "name": "stderr",
          "output_type": "stream",
          "text": [
            "INFO:tensorflow:Assets written to: ram://a66968f3-3e87-48f0-b3fc-7871aae702f2/assets\n",
            "WARNING:absl:Found untraced functions such as lstm_cell_20_layer_call_fn, lstm_cell_20_layer_call_and_return_conditional_losses, lstm_cell_21_layer_call_fn, lstm_cell_21_layer_call_and_return_conditional_losses while saving (showing 4 of 4). These functions will not be directly callable after loading.\n"
          ]
        },
        {
          "name": "stdout",
          "output_type": "stream",
          "text": [
            "INFO:tensorflow:Assets written to: ram://157a6217-bc73-4600-826c-a2eabb19e572/assets\n"
          ]
        },
        {
          "name": "stderr",
          "output_type": "stream",
          "text": [
            "INFO:tensorflow:Assets written to: ram://157a6217-bc73-4600-826c-a2eabb19e572/assets\n",
            "WARNING:absl:Found untraced functions such as lstm_cell_22_layer_call_fn, lstm_cell_22_layer_call_and_return_conditional_losses, lstm_cell_23_layer_call_fn, lstm_cell_23_layer_call_and_return_conditional_losses while saving (showing 4 of 4). These functions will not be directly callable after loading.\n"
          ]
        },
        {
          "name": "stdout",
          "output_type": "stream",
          "text": [
            "INFO:tensorflow:Assets written to: ram://c9dc08c6-206d-4aeb-8034-9d8cd457fff4/assets\n"
          ]
        },
        {
          "name": "stderr",
          "output_type": "stream",
          "text": [
            "INFO:tensorflow:Assets written to: ram://c9dc08c6-206d-4aeb-8034-9d8cd457fff4/assets\n",
            "WARNING:absl:Found untraced functions such as lstm_cell_24_layer_call_fn, lstm_cell_24_layer_call_and_return_conditional_losses, lstm_cell_25_layer_call_fn, lstm_cell_25_layer_call_and_return_conditional_losses while saving (showing 4 of 4). These functions will not be directly callable after loading.\n"
          ]
        },
        {
          "name": "stdout",
          "output_type": "stream",
          "text": [
            "INFO:tensorflow:Assets written to: ram://343900a4-14bd-4540-be57-13460e625ea2/assets\n"
          ]
        },
        {
          "name": "stderr",
          "output_type": "stream",
          "text": [
            "INFO:tensorflow:Assets written to: ram://343900a4-14bd-4540-be57-13460e625ea2/assets\n",
            "WARNING:absl:Found untraced functions such as lstm_cell_26_layer_call_fn, lstm_cell_26_layer_call_and_return_conditional_losses, lstm_cell_27_layer_call_fn, lstm_cell_27_layer_call_and_return_conditional_losses while saving (showing 4 of 4). These functions will not be directly callable after loading.\n"
          ]
        },
        {
          "name": "stdout",
          "output_type": "stream",
          "text": [
            "INFO:tensorflow:Assets written to: ram://f9bfa89b-670b-47cd-ab14-065be7db264d/assets\n"
          ]
        },
        {
          "name": "stderr",
          "output_type": "stream",
          "text": [
            "INFO:tensorflow:Assets written to: ram://f9bfa89b-670b-47cd-ab14-065be7db264d/assets\n",
            "WARNING:absl:Found untraced functions such as lstm_cell_28_layer_call_fn, lstm_cell_28_layer_call_and_return_conditional_losses, lstm_cell_29_layer_call_fn, lstm_cell_29_layer_call_and_return_conditional_losses while saving (showing 4 of 4). These functions will not be directly callable after loading.\n"
          ]
        },
        {
          "name": "stdout",
          "output_type": "stream",
          "text": [
            "INFO:tensorflow:Assets written to: ram://18218637-3ff8-483c-8ff5-33f0e399151a/assets\n"
          ]
        },
        {
          "name": "stderr",
          "output_type": "stream",
          "text": [
            "INFO:tensorflow:Assets written to: ram://18218637-3ff8-483c-8ff5-33f0e399151a/assets\n",
            "WARNING:absl:Found untraced functions such as lstm_cell_30_layer_call_fn, lstm_cell_30_layer_call_and_return_conditional_losses, lstm_cell_31_layer_call_fn, lstm_cell_31_layer_call_and_return_conditional_losses while saving (showing 4 of 4). These functions will not be directly callable after loading.\n"
          ]
        },
        {
          "name": "stdout",
          "output_type": "stream",
          "text": [
            "INFO:tensorflow:Assets written to: ram://f1c8b12c-65e3-47c2-94de-297e2f581793/assets\n"
          ]
        },
        {
          "name": "stderr",
          "output_type": "stream",
          "text": [
            "INFO:tensorflow:Assets written to: ram://f1c8b12c-65e3-47c2-94de-297e2f581793/assets\n",
            "WARNING:absl:Found untraced functions such as lstm_cell_32_layer_call_fn, lstm_cell_32_layer_call_and_return_conditional_losses, lstm_cell_33_layer_call_fn, lstm_cell_33_layer_call_and_return_conditional_losses while saving (showing 4 of 4). These functions will not be directly callable after loading.\n"
          ]
        },
        {
          "name": "stdout",
          "output_type": "stream",
          "text": [
            "INFO:tensorflow:Assets written to: ram://1fdf2d9a-debd-41e1-a2d2-25e8a98963b6/assets\n"
          ]
        },
        {
          "name": "stderr",
          "output_type": "stream",
          "text": [
            "INFO:tensorflow:Assets written to: ram://1fdf2d9a-debd-41e1-a2d2-25e8a98963b6/assets\n",
            "WARNING:absl:Found untraced functions such as lstm_cell_34_layer_call_fn, lstm_cell_34_layer_call_and_return_conditional_losses, lstm_cell_35_layer_call_fn, lstm_cell_35_layer_call_and_return_conditional_losses while saving (showing 4 of 4). These functions will not be directly callable after loading.\n"
          ]
        },
        {
          "name": "stdout",
          "output_type": "stream",
          "text": [
            "INFO:tensorflow:Assets written to: ram://a5df2431-1de3-4877-9919-bf0e9638b8ab/assets\n"
          ]
        },
        {
          "name": "stderr",
          "output_type": "stream",
          "text": [
            "INFO:tensorflow:Assets written to: ram://a5df2431-1de3-4877-9919-bf0e9638b8ab/assets\n",
            "WARNING:absl:Found untraced functions such as lstm_cell_36_layer_call_fn, lstm_cell_36_layer_call_and_return_conditional_losses, lstm_cell_37_layer_call_fn, lstm_cell_37_layer_call_and_return_conditional_losses while saving (showing 4 of 4). These functions will not be directly callable after loading.\n"
          ]
        },
        {
          "name": "stdout",
          "output_type": "stream",
          "text": [
            "INFO:tensorflow:Assets written to: ram://bfc3279a-2a87-4728-9625-35e596895687/assets\n"
          ]
        },
        {
          "name": "stderr",
          "output_type": "stream",
          "text": [
            "INFO:tensorflow:Assets written to: ram://bfc3279a-2a87-4728-9625-35e596895687/assets\n",
            "WARNING:absl:Found untraced functions such as lstm_cell_38_layer_call_fn, lstm_cell_38_layer_call_and_return_conditional_losses, lstm_cell_39_layer_call_fn, lstm_cell_39_layer_call_and_return_conditional_losses while saving (showing 4 of 4). These functions will not be directly callable after loading.\n"
          ]
        },
        {
          "name": "stdout",
          "output_type": "stream",
          "text": [
            "INFO:tensorflow:Assets written to: ram://a65570cf-5677-48c8-98e6-a62e5345293a/assets\n"
          ]
        },
        {
          "name": "stderr",
          "output_type": "stream",
          "text": [
            "INFO:tensorflow:Assets written to: ram://a65570cf-5677-48c8-98e6-a62e5345293a/assets\n",
            "WARNING:absl:Found untraced functions such as lstm_cell_40_layer_call_fn, lstm_cell_40_layer_call_and_return_conditional_losses, lstm_cell_41_layer_call_fn, lstm_cell_41_layer_call_and_return_conditional_losses while saving (showing 4 of 4). These functions will not be directly callable after loading.\n"
          ]
        },
        {
          "name": "stdout",
          "output_type": "stream",
          "text": [
            "INFO:tensorflow:Assets written to: ram://56797fa1-4db2-4dfa-ae2f-ad79cc94f1d0/assets\n"
          ]
        },
        {
          "name": "stderr",
          "output_type": "stream",
          "text": [
            "INFO:tensorflow:Assets written to: ram://56797fa1-4db2-4dfa-ae2f-ad79cc94f1d0/assets\n",
            "WARNING:absl:Found untraced functions such as lstm_cell_42_layer_call_fn, lstm_cell_42_layer_call_and_return_conditional_losses, lstm_cell_43_layer_call_fn, lstm_cell_43_layer_call_and_return_conditional_losses while saving (showing 4 of 4). These functions will not be directly callable after loading.\n"
          ]
        },
        {
          "name": "stdout",
          "output_type": "stream",
          "text": [
            "INFO:tensorflow:Assets written to: ram://dfc463e6-accc-4bec-8530-6d5211dfe818/assets\n"
          ]
        },
        {
          "name": "stderr",
          "output_type": "stream",
          "text": [
            "INFO:tensorflow:Assets written to: ram://dfc463e6-accc-4bec-8530-6d5211dfe818/assets\n",
            "WARNING:absl:Found untraced functions such as lstm_cell_44_layer_call_fn, lstm_cell_44_layer_call_and_return_conditional_losses, lstm_cell_45_layer_call_fn, lstm_cell_45_layer_call_and_return_conditional_losses while saving (showing 4 of 4). These functions will not be directly callable after loading.\n"
          ]
        },
        {
          "name": "stdout",
          "output_type": "stream",
          "text": [
            "INFO:tensorflow:Assets written to: ram://76e5aa33-6c0d-4a3b-8e07-23815f2fbb18/assets\n"
          ]
        },
        {
          "name": "stderr",
          "output_type": "stream",
          "text": [
            "INFO:tensorflow:Assets written to: ram://76e5aa33-6c0d-4a3b-8e07-23815f2fbb18/assets\n",
            "WARNING:absl:Found untraced functions such as lstm_cell_46_layer_call_fn, lstm_cell_46_layer_call_and_return_conditional_losses, lstm_cell_47_layer_call_fn, lstm_cell_47_layer_call_and_return_conditional_losses while saving (showing 4 of 4). These functions will not be directly callable after loading.\n"
          ]
        },
        {
          "name": "stdout",
          "output_type": "stream",
          "text": [
            "INFO:tensorflow:Assets written to: ram://d80d1943-edbc-447d-8e42-b5d9378ff11a/assets\n"
          ]
        },
        {
          "name": "stderr",
          "output_type": "stream",
          "text": [
            "INFO:tensorflow:Assets written to: ram://d80d1943-edbc-447d-8e42-b5d9378ff11a/assets\n",
            "WARNING:absl:Found untraced functions such as lstm_cell_48_layer_call_fn, lstm_cell_48_layer_call_and_return_conditional_losses, lstm_cell_49_layer_call_fn, lstm_cell_49_layer_call_and_return_conditional_losses while saving (showing 4 of 4). These functions will not be directly callable after loading.\n"
          ]
        },
        {
          "name": "stdout",
          "output_type": "stream",
          "text": [
            "INFO:tensorflow:Assets written to: ram://a9b54c57-9397-4ef4-989f-7a22f515165d/assets\n"
          ]
        },
        {
          "name": "stderr",
          "output_type": "stream",
          "text": [
            "INFO:tensorflow:Assets written to: ram://a9b54c57-9397-4ef4-989f-7a22f515165d/assets\n",
            "WARNING:absl:Found untraced functions such as lstm_cell_50_layer_call_fn, lstm_cell_50_layer_call_and_return_conditional_losses, lstm_cell_51_layer_call_fn, lstm_cell_51_layer_call_and_return_conditional_losses while saving (showing 4 of 4). These functions will not be directly callable after loading.\n"
          ]
        },
        {
          "name": "stdout",
          "output_type": "stream",
          "text": [
            "INFO:tensorflow:Assets written to: ram://f95de92a-b24a-4272-a2c9-3505fb797a18/assets\n"
          ]
        },
        {
          "name": "stderr",
          "output_type": "stream",
          "text": [
            "INFO:tensorflow:Assets written to: ram://f95de92a-b24a-4272-a2c9-3505fb797a18/assets\n",
            "WARNING:absl:Found untraced functions such as lstm_cell_52_layer_call_fn, lstm_cell_52_layer_call_and_return_conditional_losses, lstm_cell_53_layer_call_fn, lstm_cell_53_layer_call_and_return_conditional_losses while saving (showing 4 of 4). These functions will not be directly callable after loading.\n"
          ]
        },
        {
          "name": "stdout",
          "output_type": "stream",
          "text": [
            "INFO:tensorflow:Assets written to: ram://0d2ccdb0-5451-4414-a1c9-2ed9fa7189c5/assets\n"
          ]
        },
        {
          "name": "stderr",
          "output_type": "stream",
          "text": [
            "INFO:tensorflow:Assets written to: ram://0d2ccdb0-5451-4414-a1c9-2ed9fa7189c5/assets\n",
            "WARNING:absl:Found untraced functions such as lstm_cell_54_layer_call_fn, lstm_cell_54_layer_call_and_return_conditional_losses, lstm_cell_55_layer_call_fn, lstm_cell_55_layer_call_and_return_conditional_losses while saving (showing 4 of 4). These functions will not be directly callable after loading.\n"
          ]
        },
        {
          "name": "stdout",
          "output_type": "stream",
          "text": [
            "INFO:tensorflow:Assets written to: ram://97180bb8-2fd9-4756-b8c4-3d691088fbae/assets\n"
          ]
        },
        {
          "name": "stderr",
          "output_type": "stream",
          "text": [
            "INFO:tensorflow:Assets written to: ram://97180bb8-2fd9-4756-b8c4-3d691088fbae/assets\n",
            "WARNING:absl:Found untraced functions such as lstm_cell_56_layer_call_fn, lstm_cell_56_layer_call_and_return_conditional_losses, lstm_cell_57_layer_call_fn, lstm_cell_57_layer_call_and_return_conditional_losses while saving (showing 4 of 4). These functions will not be directly callable after loading.\n"
          ]
        },
        {
          "name": "stdout",
          "output_type": "stream",
          "text": [
            "INFO:tensorflow:Assets written to: ram://d9749044-12be-4d37-b0d5-7202cf28dd6f/assets\n"
          ]
        },
        {
          "name": "stderr",
          "output_type": "stream",
          "text": [
            "INFO:tensorflow:Assets written to: ram://d9749044-12be-4d37-b0d5-7202cf28dd6f/assets\n",
            "WARNING:absl:Found untraced functions such as lstm_cell_58_layer_call_fn, lstm_cell_58_layer_call_and_return_conditional_losses, lstm_cell_59_layer_call_fn, lstm_cell_59_layer_call_and_return_conditional_losses while saving (showing 4 of 4). These functions will not be directly callable after loading.\n"
          ]
        },
        {
          "name": "stdout",
          "output_type": "stream",
          "text": [
            "INFO:tensorflow:Assets written to: ram://ce7b0e6a-5bc1-4e2d-893c-e143552ec775/assets\n"
          ]
        },
        {
          "name": "stderr",
          "output_type": "stream",
          "text": [
            "INFO:tensorflow:Assets written to: ram://ce7b0e6a-5bc1-4e2d-893c-e143552ec775/assets\n",
            "WARNING:absl:Found untraced functions such as lstm_cell_60_layer_call_fn, lstm_cell_60_layer_call_and_return_conditional_losses, lstm_cell_61_layer_call_fn, lstm_cell_61_layer_call_and_return_conditional_losses while saving (showing 4 of 4). These functions will not be directly callable after loading.\n"
          ]
        },
        {
          "name": "stdout",
          "output_type": "stream",
          "text": [
            "INFO:tensorflow:Assets written to: ram://44045d7d-4cbb-468d-a993-01a9d7c0f198/assets\n"
          ]
        },
        {
          "name": "stderr",
          "output_type": "stream",
          "text": [
            "INFO:tensorflow:Assets written to: ram://44045d7d-4cbb-468d-a993-01a9d7c0f198/assets\n",
            "WARNING:absl:Found untraced functions such as lstm_cell_62_layer_call_fn, lstm_cell_62_layer_call_and_return_conditional_losses, lstm_cell_63_layer_call_fn, lstm_cell_63_layer_call_and_return_conditional_losses while saving (showing 4 of 4). These functions will not be directly callable after loading.\n"
          ]
        },
        {
          "name": "stdout",
          "output_type": "stream",
          "text": [
            "INFO:tensorflow:Assets written to: ram://b95d0ec9-3e19-4204-a646-33ec6a03ad38/assets\n"
          ]
        },
        {
          "name": "stderr",
          "output_type": "stream",
          "text": [
            "INFO:tensorflow:Assets written to: ram://b95d0ec9-3e19-4204-a646-33ec6a03ad38/assets\n",
            "WARNING:absl:Found untraced functions such as lstm_cell_64_layer_call_fn, lstm_cell_64_layer_call_and_return_conditional_losses, lstm_cell_65_layer_call_fn, lstm_cell_65_layer_call_and_return_conditional_losses while saving (showing 4 of 4). These functions will not be directly callable after loading.\n"
          ]
        },
        {
          "name": "stdout",
          "output_type": "stream",
          "text": [
            "INFO:tensorflow:Assets written to: ram://c5392fa6-6b05-4506-91c9-3d4b37d9ae25/assets\n"
          ]
        },
        {
          "name": "stderr",
          "output_type": "stream",
          "text": [
            "INFO:tensorflow:Assets written to: ram://c5392fa6-6b05-4506-91c9-3d4b37d9ae25/assets\n",
            "WARNING:absl:Found untraced functions such as lstm_cell_66_layer_call_fn, lstm_cell_66_layer_call_and_return_conditional_losses, lstm_cell_67_layer_call_fn, lstm_cell_67_layer_call_and_return_conditional_losses while saving (showing 4 of 4). These functions will not be directly callable after loading.\n"
          ]
        },
        {
          "name": "stdout",
          "output_type": "stream",
          "text": [
            "INFO:tensorflow:Assets written to: ram://37097d4e-b962-4d21-9148-ebcd292e7a44/assets\n"
          ]
        },
        {
          "name": "stderr",
          "output_type": "stream",
          "text": [
            "INFO:tensorflow:Assets written to: ram://37097d4e-b962-4d21-9148-ebcd292e7a44/assets\n",
            "WARNING:absl:Found untraced functions such as lstm_cell_68_layer_call_fn, lstm_cell_68_layer_call_and_return_conditional_losses, lstm_cell_69_layer_call_fn, lstm_cell_69_layer_call_and_return_conditional_losses while saving (showing 4 of 4). These functions will not be directly callable after loading.\n"
          ]
        },
        {
          "name": "stdout",
          "output_type": "stream",
          "text": [
            "INFO:tensorflow:Assets written to: ram://b03e181e-78b5-4e6e-b5be-0df41f5ece2e/assets\n"
          ]
        },
        {
          "name": "stderr",
          "output_type": "stream",
          "text": [
            "INFO:tensorflow:Assets written to: ram://b03e181e-78b5-4e6e-b5be-0df41f5ece2e/assets\n",
            "WARNING:absl:Found untraced functions such as lstm_cell_70_layer_call_fn, lstm_cell_70_layer_call_and_return_conditional_losses, lstm_cell_71_layer_call_fn, lstm_cell_71_layer_call_and_return_conditional_losses while saving (showing 4 of 4). These functions will not be directly callable after loading.\n"
          ]
        },
        {
          "name": "stdout",
          "output_type": "stream",
          "text": [
            "INFO:tensorflow:Assets written to: ram://3824bc68-2411-4a50-bd6a-2f6fe727bde4/assets\n"
          ]
        },
        {
          "name": "stderr",
          "output_type": "stream",
          "text": [
            "INFO:tensorflow:Assets written to: ram://3824bc68-2411-4a50-bd6a-2f6fe727bde4/assets\n",
            "WARNING:absl:Found untraced functions such as lstm_cell_72_layer_call_fn, lstm_cell_72_layer_call_and_return_conditional_losses, lstm_cell_73_layer_call_fn, lstm_cell_73_layer_call_and_return_conditional_losses while saving (showing 4 of 4). These functions will not be directly callable after loading.\n"
          ]
        },
        {
          "name": "stdout",
          "output_type": "stream",
          "text": [
            "INFO:tensorflow:Assets written to: ram://5f09665a-cf10-4e08-8f48-eaa80bf02c46/assets\n"
          ]
        },
        {
          "name": "stderr",
          "output_type": "stream",
          "text": [
            "INFO:tensorflow:Assets written to: ram://5f09665a-cf10-4e08-8f48-eaa80bf02c46/assets\n",
            "WARNING:absl:Found untraced functions such as lstm_cell_74_layer_call_fn, lstm_cell_74_layer_call_and_return_conditional_losses, lstm_cell_75_layer_call_fn, lstm_cell_75_layer_call_and_return_conditional_losses while saving (showing 4 of 4). These functions will not be directly callable after loading.\n"
          ]
        },
        {
          "name": "stdout",
          "output_type": "stream",
          "text": [
            "INFO:tensorflow:Assets written to: ram://40b21856-2b73-4887-bb55-a1483f8dcd34/assets\n"
          ]
        },
        {
          "name": "stderr",
          "output_type": "stream",
          "text": [
            "INFO:tensorflow:Assets written to: ram://40b21856-2b73-4887-bb55-a1483f8dcd34/assets\n",
            "WARNING:absl:Found untraced functions such as lstm_cell_76_layer_call_fn, lstm_cell_76_layer_call_and_return_conditional_losses, lstm_cell_77_layer_call_fn, lstm_cell_77_layer_call_and_return_conditional_losses while saving (showing 4 of 4). These functions will not be directly callable after loading.\n"
          ]
        },
        {
          "name": "stdout",
          "output_type": "stream",
          "text": [
            "INFO:tensorflow:Assets written to: ram://3183a707-d6f1-4a3e-accb-42586aacb629/assets\n"
          ]
        },
        {
          "name": "stderr",
          "output_type": "stream",
          "text": [
            "INFO:tensorflow:Assets written to: ram://3183a707-d6f1-4a3e-accb-42586aacb629/assets\n",
            "WARNING:absl:Found untraced functions such as lstm_cell_78_layer_call_fn, lstm_cell_78_layer_call_and_return_conditional_losses, lstm_cell_79_layer_call_fn, lstm_cell_79_layer_call_and_return_conditional_losses while saving (showing 4 of 4). These functions will not be directly callable after loading.\n"
          ]
        },
        {
          "name": "stdout",
          "output_type": "stream",
          "text": [
            "INFO:tensorflow:Assets written to: ram://94328989-a8bf-44a0-b399-2e306c1011df/assets\n"
          ]
        },
        {
          "name": "stderr",
          "output_type": "stream",
          "text": [
            "INFO:tensorflow:Assets written to: ram://94328989-a8bf-44a0-b399-2e306c1011df/assets\n",
            "WARNING:absl:Found untraced functions such as lstm_cell_80_layer_call_fn, lstm_cell_80_layer_call_and_return_conditional_losses, lstm_cell_81_layer_call_fn, lstm_cell_81_layer_call_and_return_conditional_losses while saving (showing 4 of 4). These functions will not be directly callable after loading.\n"
          ]
        },
        {
          "name": "stdout",
          "output_type": "stream",
          "text": [
            "INFO:tensorflow:Assets written to: ram://1890af3d-aad9-4aaa-956a-b3aaf33f5290/assets\n"
          ]
        },
        {
          "name": "stderr",
          "output_type": "stream",
          "text": [
            "INFO:tensorflow:Assets written to: ram://1890af3d-aad9-4aaa-956a-b3aaf33f5290/assets\n",
            "WARNING:absl:Found untraced functions such as lstm_cell_82_layer_call_fn, lstm_cell_82_layer_call_and_return_conditional_losses, lstm_cell_83_layer_call_fn, lstm_cell_83_layer_call_and_return_conditional_losses while saving (showing 4 of 4). These functions will not be directly callable after loading.\n"
          ]
        },
        {
          "name": "stdout",
          "output_type": "stream",
          "text": [
            "INFO:tensorflow:Assets written to: ram://d7d8890f-d051-48ca-9285-5b7b7467f72d/assets\n"
          ]
        },
        {
          "name": "stderr",
          "output_type": "stream",
          "text": [
            "INFO:tensorflow:Assets written to: ram://d7d8890f-d051-48ca-9285-5b7b7467f72d/assets\n",
            "WARNING:absl:Found untraced functions such as lstm_cell_84_layer_call_fn, lstm_cell_84_layer_call_and_return_conditional_losses, lstm_cell_85_layer_call_fn, lstm_cell_85_layer_call_and_return_conditional_losses while saving (showing 4 of 4). These functions will not be directly callable after loading.\n"
          ]
        },
        {
          "name": "stdout",
          "output_type": "stream",
          "text": [
            "INFO:tensorflow:Assets written to: ram://12ec5409-1449-42a1-a415-d74f3f2ce0ed/assets\n"
          ]
        },
        {
          "name": "stderr",
          "output_type": "stream",
          "text": [
            "INFO:tensorflow:Assets written to: ram://12ec5409-1449-42a1-a415-d74f3f2ce0ed/assets\n",
            "WARNING:absl:Found untraced functions such as lstm_cell_86_layer_call_fn, lstm_cell_86_layer_call_and_return_conditional_losses, lstm_cell_87_layer_call_fn, lstm_cell_87_layer_call_and_return_conditional_losses while saving (showing 4 of 4). These functions will not be directly callable after loading.\n"
          ]
        },
        {
          "name": "stdout",
          "output_type": "stream",
          "text": [
            "INFO:tensorflow:Assets written to: ram://69f01e02-e90f-487b-bda7-a717e4860504/assets\n"
          ]
        },
        {
          "name": "stderr",
          "output_type": "stream",
          "text": [
            "INFO:tensorflow:Assets written to: ram://69f01e02-e90f-487b-bda7-a717e4860504/assets\n",
            "WARNING:absl:Found untraced functions such as lstm_cell_88_layer_call_fn, lstm_cell_88_layer_call_and_return_conditional_losses, lstm_cell_89_layer_call_fn, lstm_cell_89_layer_call_and_return_conditional_losses while saving (showing 4 of 4). These functions will not be directly callable after loading.\n"
          ]
        },
        {
          "name": "stdout",
          "output_type": "stream",
          "text": [
            "INFO:tensorflow:Assets written to: ram://e1b996c5-cf76-466c-b924-a210d665fe1b/assets\n"
          ]
        },
        {
          "name": "stderr",
          "output_type": "stream",
          "text": [
            "INFO:tensorflow:Assets written to: ram://e1b996c5-cf76-466c-b924-a210d665fe1b/assets\n",
            "WARNING:absl:Found untraced functions such as lstm_cell_90_layer_call_fn, lstm_cell_90_layer_call_and_return_conditional_losses, lstm_cell_91_layer_call_fn, lstm_cell_91_layer_call_and_return_conditional_losses while saving (showing 4 of 4). These functions will not be directly callable after loading.\n"
          ]
        },
        {
          "name": "stdout",
          "output_type": "stream",
          "text": [
            "INFO:tensorflow:Assets written to: ram://3841e3ec-5e1e-42a0-a2b8-02ace0a46596/assets\n"
          ]
        },
        {
          "name": "stderr",
          "output_type": "stream",
          "text": [
            "INFO:tensorflow:Assets written to: ram://3841e3ec-5e1e-42a0-a2b8-02ace0a46596/assets\n",
            "WARNING:absl:Found untraced functions such as lstm_cell_92_layer_call_fn, lstm_cell_92_layer_call_and_return_conditional_losses, lstm_cell_93_layer_call_fn, lstm_cell_93_layer_call_and_return_conditional_losses while saving (showing 4 of 4). These functions will not be directly callable after loading.\n"
          ]
        },
        {
          "name": "stdout",
          "output_type": "stream",
          "text": [
            "INFO:tensorflow:Assets written to: ram://5872caed-3af3-4e59-8c29-ccc08f344071/assets\n"
          ]
        },
        {
          "name": "stderr",
          "output_type": "stream",
          "text": [
            "INFO:tensorflow:Assets written to: ram://5872caed-3af3-4e59-8c29-ccc08f344071/assets\n",
            "WARNING:absl:Found untraced functions such as lstm_cell_94_layer_call_fn, lstm_cell_94_layer_call_and_return_conditional_losses, lstm_cell_95_layer_call_fn, lstm_cell_95_layer_call_and_return_conditional_losses while saving (showing 4 of 4). These functions will not be directly callable after loading.\n"
          ]
        },
        {
          "name": "stdout",
          "output_type": "stream",
          "text": [
            "INFO:tensorflow:Assets written to: ram://ef18fae1-5346-4b13-bde0-71f0d127cfcd/assets\n"
          ]
        },
        {
          "name": "stderr",
          "output_type": "stream",
          "text": [
            "INFO:tensorflow:Assets written to: ram://ef18fae1-5346-4b13-bde0-71f0d127cfcd/assets\n",
            "WARNING:absl:Found untraced functions such as lstm_cell_96_layer_call_fn, lstm_cell_96_layer_call_and_return_conditional_losses, lstm_cell_97_layer_call_fn, lstm_cell_97_layer_call_and_return_conditional_losses while saving (showing 4 of 4). These functions will not be directly callable after loading.\n"
          ]
        },
        {
          "name": "stdout",
          "output_type": "stream",
          "text": [
            "INFO:tensorflow:Assets written to: ram://08a47cea-5352-45f1-9929-1132ad714be5/assets\n"
          ]
        },
        {
          "name": "stderr",
          "output_type": "stream",
          "text": [
            "INFO:tensorflow:Assets written to: ram://08a47cea-5352-45f1-9929-1132ad714be5/assets\n",
            "WARNING:absl:Found untraced functions such as lstm_cell_98_layer_call_fn, lstm_cell_98_layer_call_and_return_conditional_losses, lstm_cell_99_layer_call_fn, lstm_cell_99_layer_call_and_return_conditional_losses while saving (showing 4 of 4). These functions will not be directly callable after loading.\n"
          ]
        },
        {
          "name": "stdout",
          "output_type": "stream",
          "text": [
            "INFO:tensorflow:Assets written to: ram://c40e3d12-b186-487e-a268-153d0b2d35b8/assets\n"
          ]
        },
        {
          "name": "stderr",
          "output_type": "stream",
          "text": [
            "INFO:tensorflow:Assets written to: ram://c40e3d12-b186-487e-a268-153d0b2d35b8/assets\n",
            "WARNING:absl:Found untraced functions such as lstm_cell_100_layer_call_fn, lstm_cell_100_layer_call_and_return_conditional_losses, lstm_cell_101_layer_call_fn, lstm_cell_101_layer_call_and_return_conditional_losses while saving (showing 4 of 4). These functions will not be directly callable after loading.\n"
          ]
        },
        {
          "name": "stdout",
          "output_type": "stream",
          "text": [
            "INFO:tensorflow:Assets written to: ram://95025993-f5f7-4ee9-8c08-15395fad7c63/assets\n"
          ]
        },
        {
          "name": "stderr",
          "output_type": "stream",
          "text": [
            "INFO:tensorflow:Assets written to: ram://95025993-f5f7-4ee9-8c08-15395fad7c63/assets\n",
            "WARNING:absl:Found untraced functions such as lstm_cell_102_layer_call_fn, lstm_cell_102_layer_call_and_return_conditional_losses, lstm_cell_103_layer_call_fn, lstm_cell_103_layer_call_and_return_conditional_losses while saving (showing 4 of 4). These functions will not be directly callable after loading.\n"
          ]
        },
        {
          "name": "stdout",
          "output_type": "stream",
          "text": [
            "INFO:tensorflow:Assets written to: ram://a73089d6-f404-4590-86ce-827235b6108b/assets\n"
          ]
        },
        {
          "name": "stderr",
          "output_type": "stream",
          "text": [
            "INFO:tensorflow:Assets written to: ram://a73089d6-f404-4590-86ce-827235b6108b/assets\n",
            "WARNING:absl:Found untraced functions such as lstm_cell_104_layer_call_fn, lstm_cell_104_layer_call_and_return_conditional_losses, lstm_cell_105_layer_call_fn, lstm_cell_105_layer_call_and_return_conditional_losses while saving (showing 4 of 4). These functions will not be directly callable after loading.\n"
          ]
        },
        {
          "name": "stdout",
          "output_type": "stream",
          "text": [
            "INFO:tensorflow:Assets written to: ram://4d6cd05d-a2bb-4831-b81e-e995628c5c58/assets\n"
          ]
        },
        {
          "name": "stderr",
          "output_type": "stream",
          "text": [
            "INFO:tensorflow:Assets written to: ram://4d6cd05d-a2bb-4831-b81e-e995628c5c58/assets\n",
            "WARNING:absl:Found untraced functions such as lstm_cell_106_layer_call_fn, lstm_cell_106_layer_call_and_return_conditional_losses, lstm_cell_107_layer_call_fn, lstm_cell_107_layer_call_and_return_conditional_losses while saving (showing 4 of 4). These functions will not be directly callable after loading.\n"
          ]
        },
        {
          "name": "stdout",
          "output_type": "stream",
          "text": [
            "INFO:tensorflow:Assets written to: ram://258d1e61-d1d6-4c25-9617-3c6fda161eb8/assets\n"
          ]
        },
        {
          "name": "stderr",
          "output_type": "stream",
          "text": [
            "INFO:tensorflow:Assets written to: ram://258d1e61-d1d6-4c25-9617-3c6fda161eb8/assets\n",
            "WARNING:absl:Found untraced functions such as lstm_cell_108_layer_call_fn, lstm_cell_108_layer_call_and_return_conditional_losses, lstm_cell_109_layer_call_fn, lstm_cell_109_layer_call_and_return_conditional_losses while saving (showing 4 of 4). These functions will not be directly callable after loading.\n"
          ]
        },
        {
          "name": "stdout",
          "output_type": "stream",
          "text": [
            "INFO:tensorflow:Assets written to: ram://9e66342a-e526-4753-a6ad-e2307dea7f74/assets\n"
          ]
        },
        {
          "name": "stderr",
          "output_type": "stream",
          "text": [
            "INFO:tensorflow:Assets written to: ram://9e66342a-e526-4753-a6ad-e2307dea7f74/assets\n",
            "WARNING:absl:Found untraced functions such as lstm_cell_110_layer_call_fn, lstm_cell_110_layer_call_and_return_conditional_losses, lstm_cell_111_layer_call_fn, lstm_cell_111_layer_call_and_return_conditional_losses while saving (showing 4 of 4). These functions will not be directly callable after loading.\n"
          ]
        },
        {
          "name": "stdout",
          "output_type": "stream",
          "text": [
            "INFO:tensorflow:Assets written to: ram://01dd2065-e8c3-496a-88d2-20202b369328/assets\n"
          ]
        },
        {
          "name": "stderr",
          "output_type": "stream",
          "text": [
            "INFO:tensorflow:Assets written to: ram://01dd2065-e8c3-496a-88d2-20202b369328/assets\n",
            "WARNING:absl:Found untraced functions such as lstm_cell_112_layer_call_fn, lstm_cell_112_layer_call_and_return_conditional_losses, lstm_cell_113_layer_call_fn, lstm_cell_113_layer_call_and_return_conditional_losses while saving (showing 4 of 4). These functions will not be directly callable after loading.\n"
          ]
        },
        {
          "name": "stdout",
          "output_type": "stream",
          "text": [
            "INFO:tensorflow:Assets written to: ram://221bd413-b894-4d8c-ba96-d64333adfcf5/assets\n"
          ]
        },
        {
          "name": "stderr",
          "output_type": "stream",
          "text": [
            "INFO:tensorflow:Assets written to: ram://221bd413-b894-4d8c-ba96-d64333adfcf5/assets\n",
            "WARNING:absl:Found untraced functions such as lstm_cell_114_layer_call_fn, lstm_cell_114_layer_call_and_return_conditional_losses, lstm_cell_115_layer_call_fn, lstm_cell_115_layer_call_and_return_conditional_losses while saving (showing 4 of 4). These functions will not be directly callable after loading.\n"
          ]
        },
        {
          "name": "stdout",
          "output_type": "stream",
          "text": [
            "INFO:tensorflow:Assets written to: ram://c7bf768d-24d6-40f9-abdc-17c6eed364a2/assets\n"
          ]
        },
        {
          "name": "stderr",
          "output_type": "stream",
          "text": [
            "INFO:tensorflow:Assets written to: ram://c7bf768d-24d6-40f9-abdc-17c6eed364a2/assets\n",
            "WARNING:absl:Found untraced functions such as lstm_cell_116_layer_call_fn, lstm_cell_116_layer_call_and_return_conditional_losses, lstm_cell_117_layer_call_fn, lstm_cell_117_layer_call_and_return_conditional_losses while saving (showing 4 of 4). These functions will not be directly callable after loading.\n"
          ]
        },
        {
          "name": "stdout",
          "output_type": "stream",
          "text": [
            "INFO:tensorflow:Assets written to: ram://bb15b14e-30a7-4831-93c0-3451235e8622/assets\n"
          ]
        },
        {
          "name": "stderr",
          "output_type": "stream",
          "text": [
            "INFO:tensorflow:Assets written to: ram://bb15b14e-30a7-4831-93c0-3451235e8622/assets\n",
            "WARNING:absl:Found untraced functions such as lstm_cell_118_layer_call_fn, lstm_cell_118_layer_call_and_return_conditional_losses, lstm_cell_119_layer_call_fn, lstm_cell_119_layer_call_and_return_conditional_losses while saving (showing 4 of 4). These functions will not be directly callable after loading.\n"
          ]
        },
        {
          "name": "stdout",
          "output_type": "stream",
          "text": [
            "INFO:tensorflow:Assets written to: ram://acb89b55-9e70-48db-a634-f43b90bfbd42/assets\n"
          ]
        },
        {
          "name": "stderr",
          "output_type": "stream",
          "text": [
            "INFO:tensorflow:Assets written to: ram://acb89b55-9e70-48db-a634-f43b90bfbd42/assets\n",
            "WARNING:absl:Found untraced functions such as lstm_cell_120_layer_call_fn, lstm_cell_120_layer_call_and_return_conditional_losses, lstm_cell_121_layer_call_fn, lstm_cell_121_layer_call_and_return_conditional_losses while saving (showing 4 of 4). These functions will not be directly callable after loading.\n"
          ]
        },
        {
          "name": "stdout",
          "output_type": "stream",
          "text": [
            "INFO:tensorflow:Assets written to: ram://80ea3263-ef66-4f9c-9f86-4c4fa10d3880/assets\n"
          ]
        },
        {
          "name": "stderr",
          "output_type": "stream",
          "text": [
            "INFO:tensorflow:Assets written to: ram://80ea3263-ef66-4f9c-9f86-4c4fa10d3880/assets\n",
            "WARNING:absl:Found untraced functions such as lstm_cell_122_layer_call_fn, lstm_cell_122_layer_call_and_return_conditional_losses, lstm_cell_123_layer_call_fn, lstm_cell_123_layer_call_and_return_conditional_losses while saving (showing 4 of 4). These functions will not be directly callable after loading.\n"
          ]
        },
        {
          "name": "stdout",
          "output_type": "stream",
          "text": [
            "INFO:tensorflow:Assets written to: ram://93fca17d-9d05-4f88-b3c3-9e4bb2cddaa3/assets\n"
          ]
        },
        {
          "name": "stderr",
          "output_type": "stream",
          "text": [
            "INFO:tensorflow:Assets written to: ram://93fca17d-9d05-4f88-b3c3-9e4bb2cddaa3/assets\n",
            "WARNING:absl:Found untraced functions such as lstm_cell_124_layer_call_fn, lstm_cell_124_layer_call_and_return_conditional_losses, lstm_cell_125_layer_call_fn, lstm_cell_125_layer_call_and_return_conditional_losses while saving (showing 4 of 4). These functions will not be directly callable after loading.\n"
          ]
        },
        {
          "name": "stdout",
          "output_type": "stream",
          "text": [
            "INFO:tensorflow:Assets written to: ram://04c804d0-1e4b-4ac7-974f-0034c5175b9f/assets\n"
          ]
        },
        {
          "name": "stderr",
          "output_type": "stream",
          "text": [
            "INFO:tensorflow:Assets written to: ram://04c804d0-1e4b-4ac7-974f-0034c5175b9f/assets\n",
            "WARNING:absl:Found untraced functions such as lstm_cell_126_layer_call_fn, lstm_cell_126_layer_call_and_return_conditional_losses, lstm_cell_127_layer_call_fn, lstm_cell_127_layer_call_and_return_conditional_losses while saving (showing 4 of 4). These functions will not be directly callable after loading.\n"
          ]
        },
        {
          "name": "stdout",
          "output_type": "stream",
          "text": [
            "INFO:tensorflow:Assets written to: ram://ecf9989c-9859-4642-92fc-35a3f8100bed/assets\n"
          ]
        },
        {
          "name": "stderr",
          "output_type": "stream",
          "text": [
            "INFO:tensorflow:Assets written to: ram://ecf9989c-9859-4642-92fc-35a3f8100bed/assets\n",
            "WARNING:absl:Found untraced functions such as lstm_cell_128_layer_call_fn, lstm_cell_128_layer_call_and_return_conditional_losses, lstm_cell_129_layer_call_fn, lstm_cell_129_layer_call_and_return_conditional_losses while saving (showing 4 of 4). These functions will not be directly callable after loading.\n"
          ]
        },
        {
          "name": "stdout",
          "output_type": "stream",
          "text": [
            "INFO:tensorflow:Assets written to: ram://af866a9f-4a91-46a1-b640-62dac6813078/assets\n"
          ]
        },
        {
          "name": "stderr",
          "output_type": "stream",
          "text": [
            "INFO:tensorflow:Assets written to: ram://af866a9f-4a91-46a1-b640-62dac6813078/assets\n",
            "WARNING:absl:Found untraced functions such as lstm_cell_130_layer_call_fn, lstm_cell_130_layer_call_and_return_conditional_losses, lstm_cell_131_layer_call_fn, lstm_cell_131_layer_call_and_return_conditional_losses while saving (showing 4 of 4). These functions will not be directly callable after loading.\n"
          ]
        },
        {
          "name": "stdout",
          "output_type": "stream",
          "text": [
            "INFO:tensorflow:Assets written to: ram://79629ab0-bbbc-4c68-8c25-cf785eb26c60/assets\n"
          ]
        },
        {
          "name": "stderr",
          "output_type": "stream",
          "text": [
            "INFO:tensorflow:Assets written to: ram://79629ab0-bbbc-4c68-8c25-cf785eb26c60/assets\n",
            "WARNING:absl:Found untraced functions such as lstm_cell_132_layer_call_fn, lstm_cell_132_layer_call_and_return_conditional_losses, lstm_cell_133_layer_call_fn, lstm_cell_133_layer_call_and_return_conditional_losses while saving (showing 4 of 4). These functions will not be directly callable after loading.\n"
          ]
        },
        {
          "name": "stdout",
          "output_type": "stream",
          "text": [
            "INFO:tensorflow:Assets written to: ram://c1402b19-f038-4009-b863-7563c632b8b8/assets\n"
          ]
        },
        {
          "name": "stderr",
          "output_type": "stream",
          "text": [
            "INFO:tensorflow:Assets written to: ram://c1402b19-f038-4009-b863-7563c632b8b8/assets\n",
            "WARNING:absl:Found untraced functions such as lstm_cell_134_layer_call_fn, lstm_cell_134_layer_call_and_return_conditional_losses, lstm_cell_135_layer_call_fn, lstm_cell_135_layer_call_and_return_conditional_losses while saving (showing 4 of 4). These functions will not be directly callable after loading.\n"
          ]
        },
        {
          "name": "stdout",
          "output_type": "stream",
          "text": [
            "INFO:tensorflow:Assets written to: ram://ae2c513c-5179-4eab-89c4-3a7360912c2e/assets\n"
          ]
        },
        {
          "name": "stderr",
          "output_type": "stream",
          "text": [
            "INFO:tensorflow:Assets written to: ram://ae2c513c-5179-4eab-89c4-3a7360912c2e/assets\n",
            "WARNING:absl:Found untraced functions such as lstm_cell_136_layer_call_fn, lstm_cell_136_layer_call_and_return_conditional_losses, lstm_cell_137_layer_call_fn, lstm_cell_137_layer_call_and_return_conditional_losses while saving (showing 4 of 4). These functions will not be directly callable after loading.\n"
          ]
        },
        {
          "name": "stdout",
          "output_type": "stream",
          "text": [
            "INFO:tensorflow:Assets written to: ram://97f2ea63-9658-44a7-b90c-ea58db2c5e36/assets\n"
          ]
        },
        {
          "name": "stderr",
          "output_type": "stream",
          "text": [
            "INFO:tensorflow:Assets written to: ram://97f2ea63-9658-44a7-b90c-ea58db2c5e36/assets\n",
            "WARNING:absl:Found untraced functions such as lstm_cell_138_layer_call_fn, lstm_cell_138_layer_call_and_return_conditional_losses, lstm_cell_139_layer_call_fn, lstm_cell_139_layer_call_and_return_conditional_losses while saving (showing 4 of 4). These functions will not be directly callable after loading.\n"
          ]
        },
        {
          "name": "stdout",
          "output_type": "stream",
          "text": [
            "INFO:tensorflow:Assets written to: ram://220f6925-2a35-46fd-a487-8cf90c182677/assets\n"
          ]
        },
        {
          "name": "stderr",
          "output_type": "stream",
          "text": [
            "INFO:tensorflow:Assets written to: ram://220f6925-2a35-46fd-a487-8cf90c182677/assets\n",
            "WARNING:absl:Found untraced functions such as lstm_cell_140_layer_call_fn, lstm_cell_140_layer_call_and_return_conditional_losses, lstm_cell_141_layer_call_fn, lstm_cell_141_layer_call_and_return_conditional_losses while saving (showing 4 of 4). These functions will not be directly callable after loading.\n"
          ]
        },
        {
          "name": "stdout",
          "output_type": "stream",
          "text": [
            "INFO:tensorflow:Assets written to: ram://d5bf1899-3c80-48c7-b0fd-c5808a0a8d61/assets\n"
          ]
        },
        {
          "name": "stderr",
          "output_type": "stream",
          "text": [
            "INFO:tensorflow:Assets written to: ram://d5bf1899-3c80-48c7-b0fd-c5808a0a8d61/assets\n",
            "WARNING:absl:Found untraced functions such as lstm_cell_142_layer_call_fn, lstm_cell_142_layer_call_and_return_conditional_losses, lstm_cell_143_layer_call_fn, lstm_cell_143_layer_call_and_return_conditional_losses while saving (showing 4 of 4). These functions will not be directly callable after loading.\n"
          ]
        },
        {
          "name": "stdout",
          "output_type": "stream",
          "text": [
            "INFO:tensorflow:Assets written to: ram://09d9eac2-a923-4e24-99d3-efb1afdf6d81/assets\n"
          ]
        },
        {
          "name": "stderr",
          "output_type": "stream",
          "text": [
            "INFO:tensorflow:Assets written to: ram://09d9eac2-a923-4e24-99d3-efb1afdf6d81/assets\n",
            "WARNING:absl:Found untraced functions such as lstm_cell_144_layer_call_fn, lstm_cell_144_layer_call_and_return_conditional_losses, lstm_cell_145_layer_call_fn, lstm_cell_145_layer_call_and_return_conditional_losses while saving (showing 4 of 4). These functions will not be directly callable after loading.\n"
          ]
        },
        {
          "name": "stdout",
          "output_type": "stream",
          "text": [
            "INFO:tensorflow:Assets written to: ram://68288fd0-97aa-4581-a8f9-0e1e9957127e/assets\n"
          ]
        },
        {
          "name": "stderr",
          "output_type": "stream",
          "text": [
            "INFO:tensorflow:Assets written to: ram://68288fd0-97aa-4581-a8f9-0e1e9957127e/assets\n",
            "WARNING:absl:Found untraced functions such as lstm_cell_146_layer_call_fn, lstm_cell_146_layer_call_and_return_conditional_losses, lstm_cell_147_layer_call_fn, lstm_cell_147_layer_call_and_return_conditional_losses while saving (showing 4 of 4). These functions will not be directly callable after loading.\n"
          ]
        },
        {
          "name": "stdout",
          "output_type": "stream",
          "text": [
            "INFO:tensorflow:Assets written to: ram://22a6e3be-336c-423e-8f2a-af91864e079f/assets\n"
          ]
        },
        {
          "name": "stderr",
          "output_type": "stream",
          "text": [
            "INFO:tensorflow:Assets written to: ram://22a6e3be-336c-423e-8f2a-af91864e079f/assets\n",
            "WARNING:absl:Found untraced functions such as lstm_cell_148_layer_call_fn, lstm_cell_148_layer_call_and_return_conditional_losses, lstm_cell_149_layer_call_fn, lstm_cell_149_layer_call_and_return_conditional_losses while saving (showing 4 of 4). These functions will not be directly callable after loading.\n"
          ]
        },
        {
          "name": "stdout",
          "output_type": "stream",
          "text": [
            "INFO:tensorflow:Assets written to: ram://5cce9da0-b4bf-4337-9a48-4bc55b2bdeda/assets\n"
          ]
        },
        {
          "name": "stderr",
          "output_type": "stream",
          "text": [
            "INFO:tensorflow:Assets written to: ram://5cce9da0-b4bf-4337-9a48-4bc55b2bdeda/assets\n",
            "WARNING:absl:Found untraced functions such as lstm_cell_150_layer_call_fn, lstm_cell_150_layer_call_and_return_conditional_losses, lstm_cell_151_layer_call_fn, lstm_cell_151_layer_call_and_return_conditional_losses while saving (showing 4 of 4). These functions will not be directly callable after loading.\n"
          ]
        },
        {
          "name": "stdout",
          "output_type": "stream",
          "text": [
            "INFO:tensorflow:Assets written to: ram://d5bf5432-7e35-418d-8e47-dc84b886e998/assets\n"
          ]
        },
        {
          "name": "stderr",
          "output_type": "stream",
          "text": [
            "INFO:tensorflow:Assets written to: ram://d5bf5432-7e35-418d-8e47-dc84b886e998/assets\n",
            "WARNING:absl:Found untraced functions such as lstm_cell_152_layer_call_fn, lstm_cell_152_layer_call_and_return_conditional_losses, lstm_cell_153_layer_call_fn, lstm_cell_153_layer_call_and_return_conditional_losses while saving (showing 4 of 4). These functions will not be directly callable after loading.\n"
          ]
        },
        {
          "name": "stdout",
          "output_type": "stream",
          "text": [
            "INFO:tensorflow:Assets written to: ram://73ab221c-d29b-40d7-9fed-317b13c80e4f/assets\n"
          ]
        },
        {
          "name": "stderr",
          "output_type": "stream",
          "text": [
            "INFO:tensorflow:Assets written to: ram://73ab221c-d29b-40d7-9fed-317b13c80e4f/assets\n",
            "WARNING:absl:Found untraced functions such as lstm_cell_154_layer_call_fn, lstm_cell_154_layer_call_and_return_conditional_losses, lstm_cell_155_layer_call_fn, lstm_cell_155_layer_call_and_return_conditional_losses while saving (showing 4 of 4). These functions will not be directly callable after loading.\n"
          ]
        },
        {
          "name": "stdout",
          "output_type": "stream",
          "text": [
            "INFO:tensorflow:Assets written to: ram://b2aadf4f-17cd-4133-88d7-05da0785e482/assets\n"
          ]
        },
        {
          "name": "stderr",
          "output_type": "stream",
          "text": [
            "INFO:tensorflow:Assets written to: ram://b2aadf4f-17cd-4133-88d7-05da0785e482/assets\n",
            "WARNING:absl:Found untraced functions such as lstm_cell_156_layer_call_fn, lstm_cell_156_layer_call_and_return_conditional_losses, lstm_cell_157_layer_call_fn, lstm_cell_157_layer_call_and_return_conditional_losses while saving (showing 4 of 4). These functions will not be directly callable after loading.\n"
          ]
        },
        {
          "name": "stdout",
          "output_type": "stream",
          "text": [
            "INFO:tensorflow:Assets written to: ram://c5177040-ca57-4675-96a4-e658a36f902a/assets\n"
          ]
        },
        {
          "name": "stderr",
          "output_type": "stream",
          "text": [
            "INFO:tensorflow:Assets written to: ram://c5177040-ca57-4675-96a4-e658a36f902a/assets\n",
            "WARNING:absl:Found untraced functions such as lstm_cell_158_layer_call_fn, lstm_cell_158_layer_call_and_return_conditional_losses, lstm_cell_159_layer_call_fn, lstm_cell_159_layer_call_and_return_conditional_losses while saving (showing 4 of 4). These functions will not be directly callable after loading.\n"
          ]
        },
        {
          "name": "stdout",
          "output_type": "stream",
          "text": [
            "INFO:tensorflow:Assets written to: ram://731af67a-f00f-45d3-8ac3-c3e8cb279063/assets\n"
          ]
        },
        {
          "name": "stderr",
          "output_type": "stream",
          "text": [
            "INFO:tensorflow:Assets written to: ram://731af67a-f00f-45d3-8ac3-c3e8cb279063/assets\n",
            "WARNING:absl:Found untraced functions such as lstm_cell_160_layer_call_fn, lstm_cell_160_layer_call_and_return_conditional_losses, lstm_cell_161_layer_call_fn, lstm_cell_161_layer_call_and_return_conditional_losses while saving (showing 4 of 4). These functions will not be directly callable after loading.\n"
          ]
        },
        {
          "name": "stdout",
          "output_type": "stream",
          "text": [
            "INFO:tensorflow:Assets written to: ram://329e243a-07fd-4b69-a7e6-0ad4d81e31bf/assets\n"
          ]
        },
        {
          "name": "stderr",
          "output_type": "stream",
          "text": [
            "INFO:tensorflow:Assets written to: ram://329e243a-07fd-4b69-a7e6-0ad4d81e31bf/assets\n",
            "WARNING:absl:Found untraced functions such as lstm_cell_162_layer_call_fn, lstm_cell_162_layer_call_and_return_conditional_losses, lstm_cell_163_layer_call_fn, lstm_cell_163_layer_call_and_return_conditional_losses while saving (showing 4 of 4). These functions will not be directly callable after loading.\n"
          ]
        },
        {
          "name": "stdout",
          "output_type": "stream",
          "text": [
            "INFO:tensorflow:Assets written to: ram://3bc29f19-05b1-4b91-85af-9b299cdff2ff/assets\n"
          ]
        },
        {
          "name": "stderr",
          "output_type": "stream",
          "text": [
            "INFO:tensorflow:Assets written to: ram://3bc29f19-05b1-4b91-85af-9b299cdff2ff/assets\n",
            "WARNING:absl:Found untraced functions such as lstm_cell_164_layer_call_fn, lstm_cell_164_layer_call_and_return_conditional_losses, lstm_cell_165_layer_call_fn, lstm_cell_165_layer_call_and_return_conditional_losses while saving (showing 4 of 4). These functions will not be directly callable after loading.\n"
          ]
        },
        {
          "name": "stdout",
          "output_type": "stream",
          "text": [
            "INFO:tensorflow:Assets written to: ram://d46e2f63-ad75-404d-8236-9bfc5bcbf495/assets\n"
          ]
        },
        {
          "name": "stderr",
          "output_type": "stream",
          "text": [
            "INFO:tensorflow:Assets written to: ram://d46e2f63-ad75-404d-8236-9bfc5bcbf495/assets\n",
            "WARNING:absl:Found untraced functions such as lstm_cell_166_layer_call_fn, lstm_cell_166_layer_call_and_return_conditional_losses, lstm_cell_167_layer_call_fn, lstm_cell_167_layer_call_and_return_conditional_losses while saving (showing 4 of 4). These functions will not be directly callable after loading.\n"
          ]
        },
        {
          "name": "stdout",
          "output_type": "stream",
          "text": [
            "INFO:tensorflow:Assets written to: ram://59bab345-e334-4f01-af0a-b3ab0a201104/assets\n"
          ]
        },
        {
          "name": "stderr",
          "output_type": "stream",
          "text": [
            "INFO:tensorflow:Assets written to: ram://59bab345-e334-4f01-af0a-b3ab0a201104/assets\n",
            "WARNING:absl:Found untraced functions such as lstm_cell_168_layer_call_fn, lstm_cell_168_layer_call_and_return_conditional_losses, lstm_cell_169_layer_call_fn, lstm_cell_169_layer_call_and_return_conditional_losses while saving (showing 4 of 4). These functions will not be directly callable after loading.\n"
          ]
        },
        {
          "name": "stdout",
          "output_type": "stream",
          "text": [
            "INFO:tensorflow:Assets written to: ram://62300d95-b6e4-47c3-8734-2d4d27fee9a5/assets\n"
          ]
        },
        {
          "name": "stderr",
          "output_type": "stream",
          "text": [
            "INFO:tensorflow:Assets written to: ram://62300d95-b6e4-47c3-8734-2d4d27fee9a5/assets\n",
            "WARNING:absl:Found untraced functions such as lstm_cell_170_layer_call_fn, lstm_cell_170_layer_call_and_return_conditional_losses, lstm_cell_171_layer_call_fn, lstm_cell_171_layer_call_and_return_conditional_losses while saving (showing 4 of 4). These functions will not be directly callable after loading.\n"
          ]
        },
        {
          "name": "stdout",
          "output_type": "stream",
          "text": [
            "INFO:tensorflow:Assets written to: ram://fde2f080-adcd-4cd1-9cf8-7aa11ac31fcd/assets\n"
          ]
        },
        {
          "name": "stderr",
          "output_type": "stream",
          "text": [
            "INFO:tensorflow:Assets written to: ram://fde2f080-adcd-4cd1-9cf8-7aa11ac31fcd/assets\n",
            "WARNING:absl:Found untraced functions such as lstm_cell_172_layer_call_fn, lstm_cell_172_layer_call_and_return_conditional_losses, lstm_cell_173_layer_call_fn, lstm_cell_173_layer_call_and_return_conditional_losses while saving (showing 4 of 4). These functions will not be directly callable after loading.\n"
          ]
        },
        {
          "name": "stdout",
          "output_type": "stream",
          "text": [
            "INFO:tensorflow:Assets written to: ram://ae33e6c9-c29a-43b9-b44d-c530ecf918ef/assets\n"
          ]
        },
        {
          "name": "stderr",
          "output_type": "stream",
          "text": [
            "INFO:tensorflow:Assets written to: ram://ae33e6c9-c29a-43b9-b44d-c530ecf918ef/assets\n",
            "WARNING:absl:Found untraced functions such as lstm_cell_174_layer_call_fn, lstm_cell_174_layer_call_and_return_conditional_losses, lstm_cell_175_layer_call_fn, lstm_cell_175_layer_call_and_return_conditional_losses while saving (showing 4 of 4). These functions will not be directly callable after loading.\n"
          ]
        },
        {
          "name": "stdout",
          "output_type": "stream",
          "text": [
            "INFO:tensorflow:Assets written to: ram://b29fbf02-2b80-47fb-adb8-7bb5453464a2/assets\n"
          ]
        },
        {
          "name": "stderr",
          "output_type": "stream",
          "text": [
            "INFO:tensorflow:Assets written to: ram://b29fbf02-2b80-47fb-adb8-7bb5453464a2/assets\n",
            "WARNING:absl:Found untraced functions such as lstm_cell_176_layer_call_fn, lstm_cell_176_layer_call_and_return_conditional_losses, lstm_cell_177_layer_call_fn, lstm_cell_177_layer_call_and_return_conditional_losses while saving (showing 4 of 4). These functions will not be directly callable after loading.\n"
          ]
        },
        {
          "name": "stdout",
          "output_type": "stream",
          "text": [
            "INFO:tensorflow:Assets written to: ram://0979767d-8990-4502-9232-302630f2dae8/assets\n"
          ]
        },
        {
          "name": "stderr",
          "output_type": "stream",
          "text": [
            "INFO:tensorflow:Assets written to: ram://0979767d-8990-4502-9232-302630f2dae8/assets\n",
            "WARNING:absl:Found untraced functions such as lstm_cell_178_layer_call_fn, lstm_cell_178_layer_call_and_return_conditional_losses, lstm_cell_179_layer_call_fn, lstm_cell_179_layer_call_and_return_conditional_losses while saving (showing 4 of 4). These functions will not be directly callable after loading.\n"
          ]
        },
        {
          "name": "stdout",
          "output_type": "stream",
          "text": [
            "INFO:tensorflow:Assets written to: ram://b02847ff-1b1c-4820-b096-fdfa943d4e41/assets\n"
          ]
        },
        {
          "name": "stderr",
          "output_type": "stream",
          "text": [
            "INFO:tensorflow:Assets written to: ram://b02847ff-1b1c-4820-b096-fdfa943d4e41/assets\n",
            "WARNING:absl:Found untraced functions such as lstm_cell_180_layer_call_fn, lstm_cell_180_layer_call_and_return_conditional_losses, lstm_cell_181_layer_call_fn, lstm_cell_181_layer_call_and_return_conditional_losses while saving (showing 4 of 4). These functions will not be directly callable after loading.\n"
          ]
        },
        {
          "name": "stdout",
          "output_type": "stream",
          "text": [
            "INFO:tensorflow:Assets written to: ram://fadd039c-e803-4d74-9857-d080f9094ae3/assets\n"
          ]
        },
        {
          "name": "stderr",
          "output_type": "stream",
          "text": [
            "INFO:tensorflow:Assets written to: ram://fadd039c-e803-4d74-9857-d080f9094ae3/assets\n",
            "WARNING:absl:Found untraced functions such as lstm_cell_182_layer_call_fn, lstm_cell_182_layer_call_and_return_conditional_losses, lstm_cell_183_layer_call_fn, lstm_cell_183_layer_call_and_return_conditional_losses while saving (showing 4 of 4). These functions will not be directly callable after loading.\n"
          ]
        },
        {
          "name": "stdout",
          "output_type": "stream",
          "text": [
            "INFO:tensorflow:Assets written to: ram://ea5f36a2-2c53-45af-988f-0f553ea8da4e/assets\n"
          ]
        },
        {
          "name": "stderr",
          "output_type": "stream",
          "text": [
            "INFO:tensorflow:Assets written to: ram://ea5f36a2-2c53-45af-988f-0f553ea8da4e/assets\n",
            "WARNING:absl:Found untraced functions such as lstm_cell_184_layer_call_fn, lstm_cell_184_layer_call_and_return_conditional_losses, lstm_cell_185_layer_call_fn, lstm_cell_185_layer_call_and_return_conditional_losses while saving (showing 4 of 4). These functions will not be directly callable after loading.\n"
          ]
        },
        {
          "name": "stdout",
          "output_type": "stream",
          "text": [
            "INFO:tensorflow:Assets written to: ram://2477e62b-f342-4f67-bcb9-ad4596fc0375/assets\n"
          ]
        },
        {
          "name": "stderr",
          "output_type": "stream",
          "text": [
            "INFO:tensorflow:Assets written to: ram://2477e62b-f342-4f67-bcb9-ad4596fc0375/assets\n",
            "WARNING:absl:Found untraced functions such as lstm_cell_186_layer_call_fn, lstm_cell_186_layer_call_and_return_conditional_losses, lstm_cell_187_layer_call_fn, lstm_cell_187_layer_call_and_return_conditional_losses while saving (showing 4 of 4). These functions will not be directly callable after loading.\n"
          ]
        },
        {
          "name": "stdout",
          "output_type": "stream",
          "text": [
            "INFO:tensorflow:Assets written to: ram://80c1ac7c-bd36-404f-b427-c46088dd5218/assets\n"
          ]
        },
        {
          "name": "stderr",
          "output_type": "stream",
          "text": [
            "INFO:tensorflow:Assets written to: ram://80c1ac7c-bd36-404f-b427-c46088dd5218/assets\n",
            "WARNING:absl:Found untraced functions such as lstm_cell_188_layer_call_fn, lstm_cell_188_layer_call_and_return_conditional_losses, lstm_cell_189_layer_call_fn, lstm_cell_189_layer_call_and_return_conditional_losses while saving (showing 4 of 4). These functions will not be directly callable after loading.\n"
          ]
        },
        {
          "name": "stdout",
          "output_type": "stream",
          "text": [
            "INFO:tensorflow:Assets written to: ram://b6a7b92c-3aa4-4fbc-9e96-ef819e33a17d/assets\n"
          ]
        },
        {
          "name": "stderr",
          "output_type": "stream",
          "text": [
            "INFO:tensorflow:Assets written to: ram://b6a7b92c-3aa4-4fbc-9e96-ef819e33a17d/assets\n",
            "WARNING:absl:Found untraced functions such as lstm_cell_190_layer_call_fn, lstm_cell_190_layer_call_and_return_conditional_losses, lstm_cell_191_layer_call_fn, lstm_cell_191_layer_call_and_return_conditional_losses while saving (showing 4 of 4). These functions will not be directly callable after loading.\n"
          ]
        },
        {
          "name": "stdout",
          "output_type": "stream",
          "text": [
            "INFO:tensorflow:Assets written to: ram://bbd5089a-94fa-41cb-b7c4-7de6d55237a1/assets\n"
          ]
        },
        {
          "name": "stderr",
          "output_type": "stream",
          "text": [
            "INFO:tensorflow:Assets written to: ram://bbd5089a-94fa-41cb-b7c4-7de6d55237a1/assets\n",
            "WARNING:absl:Found untraced functions such as lstm_cell_192_layer_call_fn, lstm_cell_192_layer_call_and_return_conditional_losses, lstm_cell_193_layer_call_fn, lstm_cell_193_layer_call_and_return_conditional_losses while saving (showing 4 of 4). These functions will not be directly callable after loading.\n"
          ]
        },
        {
          "name": "stdout",
          "output_type": "stream",
          "text": [
            "INFO:tensorflow:Assets written to: ram://b2ce76cb-fb4c-4808-b4d4-1409834e2cbf/assets\n"
          ]
        },
        {
          "name": "stderr",
          "output_type": "stream",
          "text": [
            "INFO:tensorflow:Assets written to: ram://b2ce76cb-fb4c-4808-b4d4-1409834e2cbf/assets\n",
            "WARNING:absl:Found untraced functions such as lstm_cell_194_layer_call_fn, lstm_cell_194_layer_call_and_return_conditional_losses, lstm_cell_195_layer_call_fn, lstm_cell_195_layer_call_and_return_conditional_losses while saving (showing 4 of 4). These functions will not be directly callable after loading.\n"
          ]
        },
        {
          "name": "stdout",
          "output_type": "stream",
          "text": [
            "INFO:tensorflow:Assets written to: ram://020dc6b6-2ab6-4e6d-9b58-4e2eb2827628/assets\n"
          ]
        },
        {
          "name": "stderr",
          "output_type": "stream",
          "text": [
            "INFO:tensorflow:Assets written to: ram://020dc6b6-2ab6-4e6d-9b58-4e2eb2827628/assets\n",
            "WARNING:absl:Found untraced functions such as lstm_cell_196_layer_call_fn, lstm_cell_196_layer_call_and_return_conditional_losses, lstm_cell_197_layer_call_fn, lstm_cell_197_layer_call_and_return_conditional_losses while saving (showing 4 of 4). These functions will not be directly callable after loading.\n"
          ]
        },
        {
          "name": "stdout",
          "output_type": "stream",
          "text": [
            "INFO:tensorflow:Assets written to: ram://fcda72ee-eb0d-4cd4-a56f-3b60856f58df/assets\n"
          ]
        },
        {
          "name": "stderr",
          "output_type": "stream",
          "text": [
            "INFO:tensorflow:Assets written to: ram://fcda72ee-eb0d-4cd4-a56f-3b60856f58df/assets\n",
            "WARNING:absl:Found untraced functions such as lstm_cell_198_layer_call_fn, lstm_cell_198_layer_call_and_return_conditional_losses, lstm_cell_199_layer_call_fn, lstm_cell_199_layer_call_and_return_conditional_losses while saving (showing 4 of 4). These functions will not be directly callable after loading.\n"
          ]
        },
        {
          "name": "stdout",
          "output_type": "stream",
          "text": [
            "INFO:tensorflow:Assets written to: ram://d34ae608-ac1e-4edf-99ac-7ea27c57dca4/assets\n"
          ]
        },
        {
          "name": "stderr",
          "output_type": "stream",
          "text": [
            "INFO:tensorflow:Assets written to: ram://d34ae608-ac1e-4edf-99ac-7ea27c57dca4/assets\n",
            "WARNING:absl:Found untraced functions such as lstm_cell_200_layer_call_fn, lstm_cell_200_layer_call_and_return_conditional_losses, lstm_cell_201_layer_call_fn, lstm_cell_201_layer_call_and_return_conditional_losses while saving (showing 4 of 4). These functions will not be directly callable after loading.\n"
          ]
        },
        {
          "name": "stdout",
          "output_type": "stream",
          "text": [
            "INFO:tensorflow:Assets written to: ram://c1a7974d-b50f-4f68-97ec-e622181a291c/assets\n"
          ]
        },
        {
          "name": "stderr",
          "output_type": "stream",
          "text": [
            "INFO:tensorflow:Assets written to: ram://c1a7974d-b50f-4f68-97ec-e622181a291c/assets\n",
            "WARNING:absl:Found untraced functions such as lstm_cell_202_layer_call_fn, lstm_cell_202_layer_call_and_return_conditional_losses, lstm_cell_203_layer_call_fn, lstm_cell_203_layer_call_and_return_conditional_losses while saving (showing 4 of 4). These functions will not be directly callable after loading.\n"
          ]
        },
        {
          "name": "stdout",
          "output_type": "stream",
          "text": [
            "INFO:tensorflow:Assets written to: ram://94ab412f-f9f7-429c-b0ba-8aa1d57e280f/assets\n"
          ]
        },
        {
          "name": "stderr",
          "output_type": "stream",
          "text": [
            "INFO:tensorflow:Assets written to: ram://94ab412f-f9f7-429c-b0ba-8aa1d57e280f/assets\n",
            "WARNING:absl:Found untraced functions such as lstm_cell_204_layer_call_fn, lstm_cell_204_layer_call_and_return_conditional_losses, lstm_cell_205_layer_call_fn, lstm_cell_205_layer_call_and_return_conditional_losses while saving (showing 4 of 4). These functions will not be directly callable after loading.\n"
          ]
        },
        {
          "name": "stdout",
          "output_type": "stream",
          "text": [
            "INFO:tensorflow:Assets written to: ram://88dacb97-c042-4a81-8cfc-66b6b6f31189/assets\n"
          ]
        },
        {
          "name": "stderr",
          "output_type": "stream",
          "text": [
            "INFO:tensorflow:Assets written to: ram://88dacb97-c042-4a81-8cfc-66b6b6f31189/assets\n",
            "WARNING:absl:Found untraced functions such as lstm_cell_206_layer_call_fn, lstm_cell_206_layer_call_and_return_conditional_losses, lstm_cell_207_layer_call_fn, lstm_cell_207_layer_call_and_return_conditional_losses while saving (showing 4 of 4). These functions will not be directly callable after loading.\n"
          ]
        },
        {
          "name": "stdout",
          "output_type": "stream",
          "text": [
            "INFO:tensorflow:Assets written to: ram://fca3dc6d-ad73-4002-9b08-4fc470819487/assets\n"
          ]
        },
        {
          "name": "stderr",
          "output_type": "stream",
          "text": [
            "INFO:tensorflow:Assets written to: ram://fca3dc6d-ad73-4002-9b08-4fc470819487/assets\n",
            "WARNING:absl:Found untraced functions such as lstm_cell_208_layer_call_fn, lstm_cell_208_layer_call_and_return_conditional_losses, lstm_cell_209_layer_call_fn, lstm_cell_209_layer_call_and_return_conditional_losses while saving (showing 4 of 4). These functions will not be directly callable after loading.\n"
          ]
        },
        {
          "name": "stdout",
          "output_type": "stream",
          "text": [
            "INFO:tensorflow:Assets written to: ram://5a5e3996-1313-4b71-8226-258646245478/assets\n"
          ]
        },
        {
          "name": "stderr",
          "output_type": "stream",
          "text": [
            "INFO:tensorflow:Assets written to: ram://5a5e3996-1313-4b71-8226-258646245478/assets\n",
            "WARNING:absl:Found untraced functions such as lstm_cell_210_layer_call_fn, lstm_cell_210_layer_call_and_return_conditional_losses, lstm_cell_211_layer_call_fn, lstm_cell_211_layer_call_and_return_conditional_losses while saving (showing 4 of 4). These functions will not be directly callable after loading.\n"
          ]
        },
        {
          "name": "stdout",
          "output_type": "stream",
          "text": [
            "INFO:tensorflow:Assets written to: ram://cd4809c0-3c35-438d-982f-09c62533c313/assets\n"
          ]
        },
        {
          "name": "stderr",
          "output_type": "stream",
          "text": [
            "INFO:tensorflow:Assets written to: ram://cd4809c0-3c35-438d-982f-09c62533c313/assets\n",
            "WARNING:absl:Found untraced functions such as lstm_cell_212_layer_call_fn, lstm_cell_212_layer_call_and_return_conditional_losses, lstm_cell_213_layer_call_fn, lstm_cell_213_layer_call_and_return_conditional_losses while saving (showing 4 of 4). These functions will not be directly callable after loading.\n"
          ]
        },
        {
          "name": "stdout",
          "output_type": "stream",
          "text": [
            "INFO:tensorflow:Assets written to: ram://b0492664-d901-4f15-848f-11a50a6d38e7/assets\n"
          ]
        },
        {
          "name": "stderr",
          "output_type": "stream",
          "text": [
            "INFO:tensorflow:Assets written to: ram://b0492664-d901-4f15-848f-11a50a6d38e7/assets\n",
            "WARNING:absl:Found untraced functions such as lstm_cell_214_layer_call_fn, lstm_cell_214_layer_call_and_return_conditional_losses, lstm_cell_215_layer_call_fn, lstm_cell_215_layer_call_and_return_conditional_losses while saving (showing 4 of 4). These functions will not be directly callable after loading.\n"
          ]
        },
        {
          "name": "stdout",
          "output_type": "stream",
          "text": [
            "INFO:tensorflow:Assets written to: ram://26323c28-8d45-45fb-9dc4-1fc59c074118/assets\n"
          ]
        },
        {
          "name": "stderr",
          "output_type": "stream",
          "text": [
            "INFO:tensorflow:Assets written to: ram://26323c28-8d45-45fb-9dc4-1fc59c074118/assets\n",
            "WARNING:absl:Found untraced functions such as lstm_cell_216_layer_call_fn, lstm_cell_216_layer_call_and_return_conditional_losses, lstm_cell_217_layer_call_fn, lstm_cell_217_layer_call_and_return_conditional_losses while saving (showing 4 of 4). These functions will not be directly callable after loading.\n"
          ]
        },
        {
          "name": "stdout",
          "output_type": "stream",
          "text": [
            "INFO:tensorflow:Assets written to: ram://2ef31576-a968-4579-9b84-8ed4d5fdd238/assets\n"
          ]
        },
        {
          "name": "stderr",
          "output_type": "stream",
          "text": [
            "INFO:tensorflow:Assets written to: ram://2ef31576-a968-4579-9b84-8ed4d5fdd238/assets\n",
            "WARNING:absl:Found untraced functions such as lstm_cell_218_layer_call_fn, lstm_cell_218_layer_call_and_return_conditional_losses, lstm_cell_219_layer_call_fn, lstm_cell_219_layer_call_and_return_conditional_losses while saving (showing 4 of 4). These functions will not be directly callable after loading.\n"
          ]
        },
        {
          "name": "stdout",
          "output_type": "stream",
          "text": [
            "INFO:tensorflow:Assets written to: ram://a57e733c-7e1a-4ae7-9ba6-a1ca9e3a9675/assets\n"
          ]
        },
        {
          "name": "stderr",
          "output_type": "stream",
          "text": [
            "INFO:tensorflow:Assets written to: ram://a57e733c-7e1a-4ae7-9ba6-a1ca9e3a9675/assets\n",
            "WARNING:absl:Found untraced functions such as lstm_cell_220_layer_call_fn, lstm_cell_220_layer_call_and_return_conditional_losses, lstm_cell_221_layer_call_fn, lstm_cell_221_layer_call_and_return_conditional_losses while saving (showing 4 of 4). These functions will not be directly callable after loading.\n"
          ]
        },
        {
          "name": "stdout",
          "output_type": "stream",
          "text": [
            "INFO:tensorflow:Assets written to: ram://32b71505-61ba-47c3-86f7-4cc211c018d1/assets\n"
          ]
        },
        {
          "name": "stderr",
          "output_type": "stream",
          "text": [
            "INFO:tensorflow:Assets written to: ram://32b71505-61ba-47c3-86f7-4cc211c018d1/assets\n",
            "WARNING:absl:Found untraced functions such as lstm_cell_222_layer_call_fn, lstm_cell_222_layer_call_and_return_conditional_losses, lstm_cell_223_layer_call_fn, lstm_cell_223_layer_call_and_return_conditional_losses while saving (showing 4 of 4). These functions will not be directly callable after loading.\n"
          ]
        },
        {
          "name": "stdout",
          "output_type": "stream",
          "text": [
            "INFO:tensorflow:Assets written to: ram://2aa36e65-017a-46e0-90ac-b9762b8b4395/assets\n"
          ]
        },
        {
          "name": "stderr",
          "output_type": "stream",
          "text": [
            "INFO:tensorflow:Assets written to: ram://2aa36e65-017a-46e0-90ac-b9762b8b4395/assets\n",
            "WARNING:absl:Found untraced functions such as lstm_cell_224_layer_call_fn, lstm_cell_224_layer_call_and_return_conditional_losses, lstm_cell_225_layer_call_fn, lstm_cell_225_layer_call_and_return_conditional_losses while saving (showing 4 of 4). These functions will not be directly callable after loading.\n"
          ]
        },
        {
          "name": "stdout",
          "output_type": "stream",
          "text": [
            "INFO:tensorflow:Assets written to: ram://01860afa-78f7-4e86-b05c-f47aaeb1e67d/assets\n"
          ]
        },
        {
          "name": "stderr",
          "output_type": "stream",
          "text": [
            "INFO:tensorflow:Assets written to: ram://01860afa-78f7-4e86-b05c-f47aaeb1e67d/assets\n",
            "WARNING:absl:Found untraced functions such as lstm_cell_226_layer_call_fn, lstm_cell_226_layer_call_and_return_conditional_losses, lstm_cell_227_layer_call_fn, lstm_cell_227_layer_call_and_return_conditional_losses while saving (showing 4 of 4). These functions will not be directly callable after loading.\n"
          ]
        },
        {
          "name": "stdout",
          "output_type": "stream",
          "text": [
            "INFO:tensorflow:Assets written to: ram://e94397c5-9f70-4f7e-94dc-3be9500a0a9f/assets\n"
          ]
        },
        {
          "name": "stderr",
          "output_type": "stream",
          "text": [
            "INFO:tensorflow:Assets written to: ram://e94397c5-9f70-4f7e-94dc-3be9500a0a9f/assets\n",
            "WARNING:absl:Found untraced functions such as lstm_cell_228_layer_call_fn, lstm_cell_228_layer_call_and_return_conditional_losses, lstm_cell_229_layer_call_fn, lstm_cell_229_layer_call_and_return_conditional_losses while saving (showing 4 of 4). These functions will not be directly callable after loading.\n"
          ]
        },
        {
          "name": "stdout",
          "output_type": "stream",
          "text": [
            "INFO:tensorflow:Assets written to: ram://c01bc4b5-a714-49e1-ad35-edbae0377afc/assets\n"
          ]
        },
        {
          "name": "stderr",
          "output_type": "stream",
          "text": [
            "INFO:tensorflow:Assets written to: ram://c01bc4b5-a714-49e1-ad35-edbae0377afc/assets\n",
            "WARNING:absl:Found untraced functions such as lstm_cell_230_layer_call_fn, lstm_cell_230_layer_call_and_return_conditional_losses, lstm_cell_231_layer_call_fn, lstm_cell_231_layer_call_and_return_conditional_losses while saving (showing 4 of 4). These functions will not be directly callable after loading.\n"
          ]
        },
        {
          "name": "stdout",
          "output_type": "stream",
          "text": [
            "INFO:tensorflow:Assets written to: ram://4f3fdac2-214a-488c-9d5d-01673b152d3d/assets\n"
          ]
        },
        {
          "name": "stderr",
          "output_type": "stream",
          "text": [
            "INFO:tensorflow:Assets written to: ram://4f3fdac2-214a-488c-9d5d-01673b152d3d/assets\n",
            "WARNING:absl:Found untraced functions such as lstm_cell_232_layer_call_fn, lstm_cell_232_layer_call_and_return_conditional_losses, lstm_cell_233_layer_call_fn, lstm_cell_233_layer_call_and_return_conditional_losses while saving (showing 4 of 4). These functions will not be directly callable after loading.\n"
          ]
        },
        {
          "name": "stdout",
          "output_type": "stream",
          "text": [
            "INFO:tensorflow:Assets written to: ram://efbe5415-ecaa-4e83-a31e-a562ec65560b/assets\n"
          ]
        },
        {
          "name": "stderr",
          "output_type": "stream",
          "text": [
            "INFO:tensorflow:Assets written to: ram://efbe5415-ecaa-4e83-a31e-a562ec65560b/assets\n",
            "WARNING:absl:Found untraced functions such as lstm_cell_234_layer_call_fn, lstm_cell_234_layer_call_and_return_conditional_losses, lstm_cell_235_layer_call_fn, lstm_cell_235_layer_call_and_return_conditional_losses while saving (showing 4 of 4). These functions will not be directly callable after loading.\n"
          ]
        },
        {
          "name": "stdout",
          "output_type": "stream",
          "text": [
            "INFO:tensorflow:Assets written to: ram://2e4a6ce2-6d45-4abf-bc1f-1a700d5ff4d8/assets\n"
          ]
        },
        {
          "name": "stderr",
          "output_type": "stream",
          "text": [
            "INFO:tensorflow:Assets written to: ram://2e4a6ce2-6d45-4abf-bc1f-1a700d5ff4d8/assets\n",
            "WARNING:absl:Found untraced functions such as lstm_cell_236_layer_call_fn, lstm_cell_236_layer_call_and_return_conditional_losses, lstm_cell_237_layer_call_fn, lstm_cell_237_layer_call_and_return_conditional_losses while saving (showing 4 of 4). These functions will not be directly callable after loading.\n"
          ]
        },
        {
          "name": "stdout",
          "output_type": "stream",
          "text": [
            "INFO:tensorflow:Assets written to: ram://71f1a6a1-0c2f-46b1-8909-95464c98b010/assets\n"
          ]
        },
        {
          "name": "stderr",
          "output_type": "stream",
          "text": [
            "INFO:tensorflow:Assets written to: ram://71f1a6a1-0c2f-46b1-8909-95464c98b010/assets\n",
            "WARNING:absl:Found untraced functions such as lstm_cell_238_layer_call_fn, lstm_cell_238_layer_call_and_return_conditional_losses, lstm_cell_239_layer_call_fn, lstm_cell_239_layer_call_and_return_conditional_losses while saving (showing 4 of 4). These functions will not be directly callable after loading.\n"
          ]
        },
        {
          "name": "stdout",
          "output_type": "stream",
          "text": [
            "INFO:tensorflow:Assets written to: ram://9781e2e9-e8d3-49a1-914e-41cd5b5ab4b3/assets\n"
          ]
        },
        {
          "name": "stderr",
          "output_type": "stream",
          "text": [
            "INFO:tensorflow:Assets written to: ram://9781e2e9-e8d3-49a1-914e-41cd5b5ab4b3/assets\n",
            "WARNING:absl:Found untraced functions such as lstm_cell_240_layer_call_fn, lstm_cell_240_layer_call_and_return_conditional_losses, lstm_cell_241_layer_call_fn, lstm_cell_241_layer_call_and_return_conditional_losses while saving (showing 4 of 4). These functions will not be directly callable after loading.\n"
          ]
        },
        {
          "name": "stdout",
          "output_type": "stream",
          "text": [
            "INFO:tensorflow:Assets written to: ram://566b6bf2-b741-434a-8f7b-3a4229c2b251/assets\n"
          ]
        },
        {
          "name": "stderr",
          "output_type": "stream",
          "text": [
            "INFO:tensorflow:Assets written to: ram://566b6bf2-b741-434a-8f7b-3a4229c2b251/assets\n",
            "WARNING:absl:Found untraced functions such as lstm_cell_242_layer_call_fn, lstm_cell_242_layer_call_and_return_conditional_losses, lstm_cell_243_layer_call_fn, lstm_cell_243_layer_call_and_return_conditional_losses while saving (showing 4 of 4). These functions will not be directly callable after loading.\n"
          ]
        },
        {
          "name": "stdout",
          "output_type": "stream",
          "text": [
            "INFO:tensorflow:Assets written to: ram://dc85cc5c-5738-45f8-9d57-1677fef57202/assets\n"
          ]
        },
        {
          "name": "stderr",
          "output_type": "stream",
          "text": [
            "INFO:tensorflow:Assets written to: ram://dc85cc5c-5738-45f8-9d57-1677fef57202/assets\n",
            "WARNING:absl:Found untraced functions such as lstm_cell_244_layer_call_fn, lstm_cell_244_layer_call_and_return_conditional_losses, lstm_cell_245_layer_call_fn, lstm_cell_245_layer_call_and_return_conditional_losses while saving (showing 4 of 4). These functions will not be directly callable after loading.\n"
          ]
        },
        {
          "name": "stdout",
          "output_type": "stream",
          "text": [
            "INFO:tensorflow:Assets written to: ram://468cdc1a-72e8-4ee2-bb81-81eaf512ae8c/assets\n"
          ]
        },
        {
          "name": "stderr",
          "output_type": "stream",
          "text": [
            "INFO:tensorflow:Assets written to: ram://468cdc1a-72e8-4ee2-bb81-81eaf512ae8c/assets\n",
            "WARNING:absl:Found untraced functions such as lstm_cell_246_layer_call_fn, lstm_cell_246_layer_call_and_return_conditional_losses, lstm_cell_247_layer_call_fn, lstm_cell_247_layer_call_and_return_conditional_losses while saving (showing 4 of 4). These functions will not be directly callable after loading.\n"
          ]
        },
        {
          "name": "stdout",
          "output_type": "stream",
          "text": [
            "INFO:tensorflow:Assets written to: ram://c9b462b7-eaba-45a0-b3cc-bf94d030a677/assets\n"
          ]
        },
        {
          "name": "stderr",
          "output_type": "stream",
          "text": [
            "INFO:tensorflow:Assets written to: ram://c9b462b7-eaba-45a0-b3cc-bf94d030a677/assets\n",
            "WARNING:absl:Found untraced functions such as lstm_cell_248_layer_call_fn, lstm_cell_248_layer_call_and_return_conditional_losses, lstm_cell_249_layer_call_fn, lstm_cell_249_layer_call_and_return_conditional_losses while saving (showing 4 of 4). These functions will not be directly callable after loading.\n"
          ]
        },
        {
          "name": "stdout",
          "output_type": "stream",
          "text": [
            "INFO:tensorflow:Assets written to: ram://b55c1ae6-5c74-4b9f-a5ea-647792a9e589/assets\n"
          ]
        },
        {
          "name": "stderr",
          "output_type": "stream",
          "text": [
            "INFO:tensorflow:Assets written to: ram://b55c1ae6-5c74-4b9f-a5ea-647792a9e589/assets\n",
            "WARNING:absl:Found untraced functions such as lstm_cell_250_layer_call_fn, lstm_cell_250_layer_call_and_return_conditional_losses, lstm_cell_251_layer_call_fn, lstm_cell_251_layer_call_and_return_conditional_losses while saving (showing 4 of 4). These functions will not be directly callable after loading.\n"
          ]
        },
        {
          "name": "stdout",
          "output_type": "stream",
          "text": [
            "INFO:tensorflow:Assets written to: ram://bb802f45-b0a2-41aa-ada2-0f1fee75a604/assets\n"
          ]
        },
        {
          "name": "stderr",
          "output_type": "stream",
          "text": [
            "INFO:tensorflow:Assets written to: ram://bb802f45-b0a2-41aa-ada2-0f1fee75a604/assets\n",
            "WARNING:absl:Found untraced functions such as lstm_cell_252_layer_call_fn, lstm_cell_252_layer_call_and_return_conditional_losses, lstm_cell_253_layer_call_fn, lstm_cell_253_layer_call_and_return_conditional_losses while saving (showing 4 of 4). These functions will not be directly callable after loading.\n"
          ]
        },
        {
          "name": "stdout",
          "output_type": "stream",
          "text": [
            "INFO:tensorflow:Assets written to: ram://8010e744-b0d8-4c54-bb59-f2be9827c17c/assets\n"
          ]
        },
        {
          "name": "stderr",
          "output_type": "stream",
          "text": [
            "INFO:tensorflow:Assets written to: ram://8010e744-b0d8-4c54-bb59-f2be9827c17c/assets\n",
            "WARNING:absl:Found untraced functions such as lstm_cell_254_layer_call_fn, lstm_cell_254_layer_call_and_return_conditional_losses, lstm_cell_255_layer_call_fn, lstm_cell_255_layer_call_and_return_conditional_losses while saving (showing 4 of 4). These functions will not be directly callable after loading.\n"
          ]
        },
        {
          "name": "stdout",
          "output_type": "stream",
          "text": [
            "INFO:tensorflow:Assets written to: ram://69c094ab-7974-45a9-8baf-f9108b2d34f1/assets\n"
          ]
        },
        {
          "name": "stderr",
          "output_type": "stream",
          "text": [
            "INFO:tensorflow:Assets written to: ram://69c094ab-7974-45a9-8baf-f9108b2d34f1/assets\n",
            "WARNING:absl:Found untraced functions such as lstm_cell_256_layer_call_fn, lstm_cell_256_layer_call_and_return_conditional_losses, lstm_cell_257_layer_call_fn, lstm_cell_257_layer_call_and_return_conditional_losses while saving (showing 4 of 4). These functions will not be directly callable after loading.\n"
          ]
        },
        {
          "name": "stdout",
          "output_type": "stream",
          "text": [
            "INFO:tensorflow:Assets written to: ram://c9685746-8da8-4fc5-bd3a-224c5baeec2b/assets\n"
          ]
        },
        {
          "name": "stderr",
          "output_type": "stream",
          "text": [
            "INFO:tensorflow:Assets written to: ram://c9685746-8da8-4fc5-bd3a-224c5baeec2b/assets\n",
            "WARNING:absl:Found untraced functions such as lstm_cell_258_layer_call_fn, lstm_cell_258_layer_call_and_return_conditional_losses, lstm_cell_259_layer_call_fn, lstm_cell_259_layer_call_and_return_conditional_losses while saving (showing 4 of 4). These functions will not be directly callable after loading.\n"
          ]
        },
        {
          "name": "stdout",
          "output_type": "stream",
          "text": [
            "INFO:tensorflow:Assets written to: ram://941533ab-355b-4b90-98f8-3afb74dbb35e/assets\n"
          ]
        },
        {
          "name": "stderr",
          "output_type": "stream",
          "text": [
            "INFO:tensorflow:Assets written to: ram://941533ab-355b-4b90-98f8-3afb74dbb35e/assets\n",
            "WARNING:absl:Found untraced functions such as lstm_cell_260_layer_call_fn, lstm_cell_260_layer_call_and_return_conditional_losses, lstm_cell_261_layer_call_fn, lstm_cell_261_layer_call_and_return_conditional_losses while saving (showing 4 of 4). These functions will not be directly callable after loading.\n"
          ]
        },
        {
          "name": "stdout",
          "output_type": "stream",
          "text": [
            "INFO:tensorflow:Assets written to: ram://0c7fbfc5-979d-4bd8-a17b-1ed4d3361871/assets\n"
          ]
        },
        {
          "name": "stderr",
          "output_type": "stream",
          "text": [
            "INFO:tensorflow:Assets written to: ram://0c7fbfc5-979d-4bd8-a17b-1ed4d3361871/assets\n",
            "WARNING:absl:Found untraced functions such as lstm_cell_262_layer_call_fn, lstm_cell_262_layer_call_and_return_conditional_losses, lstm_cell_263_layer_call_fn, lstm_cell_263_layer_call_and_return_conditional_losses while saving (showing 4 of 4). These functions will not be directly callable after loading.\n"
          ]
        },
        {
          "name": "stdout",
          "output_type": "stream",
          "text": [
            "INFO:tensorflow:Assets written to: ram://8f0c4c6f-b47a-4720-8cb5-e5ff68a30503/assets\n"
          ]
        },
        {
          "name": "stderr",
          "output_type": "stream",
          "text": [
            "INFO:tensorflow:Assets written to: ram://8f0c4c6f-b47a-4720-8cb5-e5ff68a30503/assets\n",
            "WARNING:absl:Found untraced functions such as lstm_cell_264_layer_call_fn, lstm_cell_264_layer_call_and_return_conditional_losses, lstm_cell_265_layer_call_fn, lstm_cell_265_layer_call_and_return_conditional_losses while saving (showing 4 of 4). These functions will not be directly callable after loading.\n"
          ]
        },
        {
          "name": "stdout",
          "output_type": "stream",
          "text": [
            "INFO:tensorflow:Assets written to: ram://e8b5f7cd-edac-43a7-a8f3-5cfb604aec4e/assets\n"
          ]
        },
        {
          "name": "stderr",
          "output_type": "stream",
          "text": [
            "INFO:tensorflow:Assets written to: ram://e8b5f7cd-edac-43a7-a8f3-5cfb604aec4e/assets\n",
            "WARNING:absl:Found untraced functions such as lstm_cell_266_layer_call_fn, lstm_cell_266_layer_call_and_return_conditional_losses, lstm_cell_267_layer_call_fn, lstm_cell_267_layer_call_and_return_conditional_losses while saving (showing 4 of 4). These functions will not be directly callable after loading.\n"
          ]
        },
        {
          "name": "stdout",
          "output_type": "stream",
          "text": [
            "INFO:tensorflow:Assets written to: ram://c85fe44f-88b0-4342-9f7c-29f179b8f2ab/assets\n"
          ]
        },
        {
          "name": "stderr",
          "output_type": "stream",
          "text": [
            "INFO:tensorflow:Assets written to: ram://c85fe44f-88b0-4342-9f7c-29f179b8f2ab/assets\n",
            "WARNING:absl:Found untraced functions such as lstm_cell_268_layer_call_fn, lstm_cell_268_layer_call_and_return_conditional_losses, lstm_cell_269_layer_call_fn, lstm_cell_269_layer_call_and_return_conditional_losses while saving (showing 4 of 4). These functions will not be directly callable after loading.\n"
          ]
        },
        {
          "name": "stdout",
          "output_type": "stream",
          "text": [
            "INFO:tensorflow:Assets written to: ram://115efe63-593b-4e49-a6b2-e2b2bc6fce83/assets\n"
          ]
        },
        {
          "name": "stderr",
          "output_type": "stream",
          "text": [
            "INFO:tensorflow:Assets written to: ram://115efe63-593b-4e49-a6b2-e2b2bc6fce83/assets\n",
            "WARNING:absl:Found untraced functions such as lstm_cell_270_layer_call_fn, lstm_cell_270_layer_call_and_return_conditional_losses, lstm_cell_271_layer_call_fn, lstm_cell_271_layer_call_and_return_conditional_losses while saving (showing 4 of 4). These functions will not be directly callable after loading.\n"
          ]
        },
        {
          "name": "stdout",
          "output_type": "stream",
          "text": [
            "INFO:tensorflow:Assets written to: ram://6bc5f345-1711-46b8-bd24-ede472ff5179/assets\n"
          ]
        },
        {
          "name": "stderr",
          "output_type": "stream",
          "text": [
            "INFO:tensorflow:Assets written to: ram://6bc5f345-1711-46b8-bd24-ede472ff5179/assets\n",
            "WARNING:absl:Found untraced functions such as lstm_cell_272_layer_call_fn, lstm_cell_272_layer_call_and_return_conditional_losses, lstm_cell_273_layer_call_fn, lstm_cell_273_layer_call_and_return_conditional_losses while saving (showing 4 of 4). These functions will not be directly callable after loading.\n"
          ]
        },
        {
          "name": "stdout",
          "output_type": "stream",
          "text": [
            "INFO:tensorflow:Assets written to: ram://ac7b9cff-a720-4b54-bfd5-c3230177add6/assets\n"
          ]
        },
        {
          "name": "stderr",
          "output_type": "stream",
          "text": [
            "INFO:tensorflow:Assets written to: ram://ac7b9cff-a720-4b54-bfd5-c3230177add6/assets\n",
            "WARNING:absl:Found untraced functions such as lstm_cell_274_layer_call_fn, lstm_cell_274_layer_call_and_return_conditional_losses, lstm_cell_275_layer_call_fn, lstm_cell_275_layer_call_and_return_conditional_losses while saving (showing 4 of 4). These functions will not be directly callable after loading.\n"
          ]
        },
        {
          "name": "stdout",
          "output_type": "stream",
          "text": [
            "INFO:tensorflow:Assets written to: ram://a77ef981-5b7f-4f31-a4a7-47c905546465/assets\n"
          ]
        },
        {
          "name": "stderr",
          "output_type": "stream",
          "text": [
            "INFO:tensorflow:Assets written to: ram://a77ef981-5b7f-4f31-a4a7-47c905546465/assets\n",
            "WARNING:absl:Found untraced functions such as lstm_cell_276_layer_call_fn, lstm_cell_276_layer_call_and_return_conditional_losses, lstm_cell_277_layer_call_fn, lstm_cell_277_layer_call_and_return_conditional_losses while saving (showing 4 of 4). These functions will not be directly callable after loading.\n"
          ]
        },
        {
          "name": "stdout",
          "output_type": "stream",
          "text": [
            "INFO:tensorflow:Assets written to: ram://0cef62ea-0ef2-4afc-a931-7965aaf0f755/assets\n"
          ]
        },
        {
          "name": "stderr",
          "output_type": "stream",
          "text": [
            "INFO:tensorflow:Assets written to: ram://0cef62ea-0ef2-4afc-a931-7965aaf0f755/assets\n",
            "WARNING:absl:Found untraced functions such as lstm_cell_278_layer_call_fn, lstm_cell_278_layer_call_and_return_conditional_losses, lstm_cell_279_layer_call_fn, lstm_cell_279_layer_call_and_return_conditional_losses while saving (showing 4 of 4). These functions will not be directly callable after loading.\n"
          ]
        },
        {
          "name": "stdout",
          "output_type": "stream",
          "text": [
            "INFO:tensorflow:Assets written to: ram://96ececcb-3edf-4b0b-bb6a-7428c9040a68/assets\n"
          ]
        },
        {
          "name": "stderr",
          "output_type": "stream",
          "text": [
            "INFO:tensorflow:Assets written to: ram://96ececcb-3edf-4b0b-bb6a-7428c9040a68/assets\n",
            "WARNING:absl:Found untraced functions such as lstm_cell_280_layer_call_fn, lstm_cell_280_layer_call_and_return_conditional_losses, lstm_cell_281_layer_call_fn, lstm_cell_281_layer_call_and_return_conditional_losses while saving (showing 4 of 4). These functions will not be directly callable after loading.\n"
          ]
        },
        {
          "name": "stdout",
          "output_type": "stream",
          "text": [
            "INFO:tensorflow:Assets written to: ram://c361bb9a-09e7-429e-a59a-9dbe1dba789e/assets\n"
          ]
        },
        {
          "name": "stderr",
          "output_type": "stream",
          "text": [
            "INFO:tensorflow:Assets written to: ram://c361bb9a-09e7-429e-a59a-9dbe1dba789e/assets\n",
            "WARNING:absl:Found untraced functions such as lstm_cell_282_layer_call_fn, lstm_cell_282_layer_call_and_return_conditional_losses, lstm_cell_283_layer_call_fn, lstm_cell_283_layer_call_and_return_conditional_losses while saving (showing 4 of 4). These functions will not be directly callable after loading.\n"
          ]
        },
        {
          "name": "stdout",
          "output_type": "stream",
          "text": [
            "INFO:tensorflow:Assets written to: ram://a58f7fca-a437-44ab-af29-7746f12bb4a5/assets\n"
          ]
        },
        {
          "name": "stderr",
          "output_type": "stream",
          "text": [
            "INFO:tensorflow:Assets written to: ram://a58f7fca-a437-44ab-af29-7746f12bb4a5/assets\n",
            "WARNING:absl:Found untraced functions such as lstm_cell_284_layer_call_fn, lstm_cell_284_layer_call_and_return_conditional_losses, lstm_cell_285_layer_call_fn, lstm_cell_285_layer_call_and_return_conditional_losses while saving (showing 4 of 4). These functions will not be directly callable after loading.\n"
          ]
        },
        {
          "name": "stdout",
          "output_type": "stream",
          "text": [
            "INFO:tensorflow:Assets written to: ram://f8556d2a-00b1-4ba0-b99e-1cf0e900d311/assets\n"
          ]
        },
        {
          "name": "stderr",
          "output_type": "stream",
          "text": [
            "INFO:tensorflow:Assets written to: ram://f8556d2a-00b1-4ba0-b99e-1cf0e900d311/assets\n",
            "WARNING:absl:Found untraced functions such as lstm_cell_286_layer_call_fn, lstm_cell_286_layer_call_and_return_conditional_losses, lstm_cell_287_layer_call_fn, lstm_cell_287_layer_call_and_return_conditional_losses while saving (showing 4 of 4). These functions will not be directly callable after loading.\n"
          ]
        },
        {
          "name": "stdout",
          "output_type": "stream",
          "text": [
            "INFO:tensorflow:Assets written to: ram://6dfb9454-08d1-45a2-838d-e8eedc04507e/assets\n"
          ]
        },
        {
          "name": "stderr",
          "output_type": "stream",
          "text": [
            "INFO:tensorflow:Assets written to: ram://6dfb9454-08d1-45a2-838d-e8eedc04507e/assets\n",
            "WARNING:absl:Found untraced functions such as lstm_cell_288_layer_call_fn, lstm_cell_288_layer_call_and_return_conditional_losses, lstm_cell_289_layer_call_fn, lstm_cell_289_layer_call_and_return_conditional_losses while saving (showing 4 of 4). These functions will not be directly callable after loading.\n"
          ]
        },
        {
          "name": "stdout",
          "output_type": "stream",
          "text": [
            "INFO:tensorflow:Assets written to: ram://7ef8cd01-2b93-432f-8101-38f4ae2fed10/assets\n"
          ]
        },
        {
          "name": "stderr",
          "output_type": "stream",
          "text": [
            "INFO:tensorflow:Assets written to: ram://7ef8cd01-2b93-432f-8101-38f4ae2fed10/assets\n",
            "WARNING:absl:Found untraced functions such as lstm_cell_290_layer_call_fn, lstm_cell_290_layer_call_and_return_conditional_losses, lstm_cell_291_layer_call_fn, lstm_cell_291_layer_call_and_return_conditional_losses while saving (showing 4 of 4). These functions will not be directly callable after loading.\n"
          ]
        },
        {
          "name": "stdout",
          "output_type": "stream",
          "text": [
            "INFO:tensorflow:Assets written to: ram://9a23f903-25d3-4219-a165-761240f52c7f/assets\n"
          ]
        },
        {
          "name": "stderr",
          "output_type": "stream",
          "text": [
            "INFO:tensorflow:Assets written to: ram://9a23f903-25d3-4219-a165-761240f52c7f/assets\n",
            "WARNING:absl:Found untraced functions such as lstm_cell_292_layer_call_fn, lstm_cell_292_layer_call_and_return_conditional_losses, lstm_cell_293_layer_call_fn, lstm_cell_293_layer_call_and_return_conditional_losses while saving (showing 4 of 4). These functions will not be directly callable after loading.\n"
          ]
        },
        {
          "name": "stdout",
          "output_type": "stream",
          "text": [
            "INFO:tensorflow:Assets written to: ram://8632c983-0c0f-48df-9e2f-d132c8f72f08/assets\n"
          ]
        },
        {
          "name": "stderr",
          "output_type": "stream",
          "text": [
            "INFO:tensorflow:Assets written to: ram://8632c983-0c0f-48df-9e2f-d132c8f72f08/assets\n",
            "WARNING:absl:Found untraced functions such as lstm_cell_294_layer_call_fn, lstm_cell_294_layer_call_and_return_conditional_losses, lstm_cell_295_layer_call_fn, lstm_cell_295_layer_call_and_return_conditional_losses while saving (showing 4 of 4). These functions will not be directly callable after loading.\n"
          ]
        },
        {
          "name": "stdout",
          "output_type": "stream",
          "text": [
            "INFO:tensorflow:Assets written to: ram://69adf5d8-43c6-4b60-baca-3261fbf9f754/assets\n"
          ]
        },
        {
          "name": "stderr",
          "output_type": "stream",
          "text": [
            "INFO:tensorflow:Assets written to: ram://69adf5d8-43c6-4b60-baca-3261fbf9f754/assets\n",
            "WARNING:absl:Found untraced functions such as lstm_cell_296_layer_call_fn, lstm_cell_296_layer_call_and_return_conditional_losses, lstm_cell_297_layer_call_fn, lstm_cell_297_layer_call_and_return_conditional_losses while saving (showing 4 of 4). These functions will not be directly callable after loading.\n"
          ]
        },
        {
          "name": "stdout",
          "output_type": "stream",
          "text": [
            "INFO:tensorflow:Assets written to: ram://5e1f8715-7f83-40af-803d-ddcc4f123170/assets\n"
          ]
        },
        {
          "name": "stderr",
          "output_type": "stream",
          "text": [
            "INFO:tensorflow:Assets written to: ram://5e1f8715-7f83-40af-803d-ddcc4f123170/assets\n",
            "WARNING:absl:Found untraced functions such as lstm_cell_298_layer_call_fn, lstm_cell_298_layer_call_and_return_conditional_losses, lstm_cell_299_layer_call_fn, lstm_cell_299_layer_call_and_return_conditional_losses while saving (showing 4 of 4). These functions will not be directly callable after loading.\n"
          ]
        },
        {
          "name": "stdout",
          "output_type": "stream",
          "text": [
            "INFO:tensorflow:Assets written to: ram://702a0885-f8d7-4615-b282-9b216f5a959b/assets\n"
          ]
        },
        {
          "name": "stderr",
          "output_type": "stream",
          "text": [
            "INFO:tensorflow:Assets written to: ram://702a0885-f8d7-4615-b282-9b216f5a959b/assets\n",
            "WARNING:absl:Found untraced functions such as lstm_cell_300_layer_call_fn, lstm_cell_300_layer_call_and_return_conditional_losses, lstm_cell_301_layer_call_fn, lstm_cell_301_layer_call_and_return_conditional_losses while saving (showing 4 of 4). These functions will not be directly callable after loading.\n"
          ]
        },
        {
          "name": "stdout",
          "output_type": "stream",
          "text": [
            "INFO:tensorflow:Assets written to: ram://d952181e-2345-47c8-9190-c988a32a5713/assets\n"
          ]
        },
        {
          "name": "stderr",
          "output_type": "stream",
          "text": [
            "INFO:tensorflow:Assets written to: ram://d952181e-2345-47c8-9190-c988a32a5713/assets\n",
            "WARNING:absl:Found untraced functions such as lstm_cell_302_layer_call_fn, lstm_cell_302_layer_call_and_return_conditional_losses, lstm_cell_303_layer_call_fn, lstm_cell_303_layer_call_and_return_conditional_losses while saving (showing 4 of 4). These functions will not be directly callable after loading.\n"
          ]
        },
        {
          "name": "stdout",
          "output_type": "stream",
          "text": [
            "INFO:tensorflow:Assets written to: ram://0521dc37-2eda-4a7e-960d-ea31ef7ccc1c/assets\n"
          ]
        },
        {
          "name": "stderr",
          "output_type": "stream",
          "text": [
            "INFO:tensorflow:Assets written to: ram://0521dc37-2eda-4a7e-960d-ea31ef7ccc1c/assets\n",
            "WARNING:absl:Found untraced functions such as lstm_cell_304_layer_call_fn, lstm_cell_304_layer_call_and_return_conditional_losses, lstm_cell_305_layer_call_fn, lstm_cell_305_layer_call_and_return_conditional_losses while saving (showing 4 of 4). These functions will not be directly callable after loading.\n"
          ]
        },
        {
          "name": "stdout",
          "output_type": "stream",
          "text": [
            "INFO:tensorflow:Assets written to: ram://57fe474e-6da2-4fb3-9d0c-e7f587615fd9/assets\n"
          ]
        },
        {
          "name": "stderr",
          "output_type": "stream",
          "text": [
            "INFO:tensorflow:Assets written to: ram://57fe474e-6da2-4fb3-9d0c-e7f587615fd9/assets\n",
            "WARNING:absl:Found untraced functions such as lstm_cell_306_layer_call_fn, lstm_cell_306_layer_call_and_return_conditional_losses, lstm_cell_307_layer_call_fn, lstm_cell_307_layer_call_and_return_conditional_losses while saving (showing 4 of 4). These functions will not be directly callable after loading.\n"
          ]
        },
        {
          "name": "stdout",
          "output_type": "stream",
          "text": [
            "INFO:tensorflow:Assets written to: ram://109dd2cb-0209-4193-bd0d-9c5af56046ab/assets\n"
          ]
        },
        {
          "name": "stderr",
          "output_type": "stream",
          "text": [
            "INFO:tensorflow:Assets written to: ram://109dd2cb-0209-4193-bd0d-9c5af56046ab/assets\n",
            "WARNING:absl:Found untraced functions such as lstm_cell_308_layer_call_fn, lstm_cell_308_layer_call_and_return_conditional_losses, lstm_cell_309_layer_call_fn, lstm_cell_309_layer_call_and_return_conditional_losses while saving (showing 4 of 4). These functions will not be directly callable after loading.\n"
          ]
        },
        {
          "name": "stdout",
          "output_type": "stream",
          "text": [
            "INFO:tensorflow:Assets written to: ram://f0b64297-2384-4b64-b47f-64f0d16bb165/assets\n"
          ]
        },
        {
          "name": "stderr",
          "output_type": "stream",
          "text": [
            "INFO:tensorflow:Assets written to: ram://f0b64297-2384-4b64-b47f-64f0d16bb165/assets\n",
            "WARNING:absl:Found untraced functions such as lstm_cell_310_layer_call_fn, lstm_cell_310_layer_call_and_return_conditional_losses, lstm_cell_311_layer_call_fn, lstm_cell_311_layer_call_and_return_conditional_losses while saving (showing 4 of 4). These functions will not be directly callable after loading.\n"
          ]
        },
        {
          "name": "stdout",
          "output_type": "stream",
          "text": [
            "INFO:tensorflow:Assets written to: ram://61815c69-7b4c-4ca8-9f80-a40e8d6f5f82/assets\n"
          ]
        },
        {
          "name": "stderr",
          "output_type": "stream",
          "text": [
            "INFO:tensorflow:Assets written to: ram://61815c69-7b4c-4ca8-9f80-a40e8d6f5f82/assets\n",
            "WARNING:absl:Found untraced functions such as lstm_cell_312_layer_call_fn, lstm_cell_312_layer_call_and_return_conditional_losses, lstm_cell_313_layer_call_fn, lstm_cell_313_layer_call_and_return_conditional_losses while saving (showing 4 of 4). These functions will not be directly callable after loading.\n"
          ]
        },
        {
          "name": "stdout",
          "output_type": "stream",
          "text": [
            "INFO:tensorflow:Assets written to: ram://1355813a-9919-48bd-b2e8-0c8c56fc7d87/assets\n"
          ]
        },
        {
          "name": "stderr",
          "output_type": "stream",
          "text": [
            "INFO:tensorflow:Assets written to: ram://1355813a-9919-48bd-b2e8-0c8c56fc7d87/assets\n",
            "WARNING:absl:Found untraced functions such as lstm_cell_314_layer_call_fn, lstm_cell_314_layer_call_and_return_conditional_losses, lstm_cell_315_layer_call_fn, lstm_cell_315_layer_call_and_return_conditional_losses while saving (showing 4 of 4). These functions will not be directly callable after loading.\n"
          ]
        },
        {
          "name": "stdout",
          "output_type": "stream",
          "text": [
            "INFO:tensorflow:Assets written to: ram://e826ff11-e5e7-4da9-96ab-4d375df6cf74/assets\n"
          ]
        },
        {
          "name": "stderr",
          "output_type": "stream",
          "text": [
            "INFO:tensorflow:Assets written to: ram://e826ff11-e5e7-4da9-96ab-4d375df6cf74/assets\n",
            "WARNING:absl:Found untraced functions such as lstm_cell_316_layer_call_fn, lstm_cell_316_layer_call_and_return_conditional_losses, lstm_cell_317_layer_call_fn, lstm_cell_317_layer_call_and_return_conditional_losses while saving (showing 4 of 4). These functions will not be directly callable after loading.\n"
          ]
        },
        {
          "name": "stdout",
          "output_type": "stream",
          "text": [
            "INFO:tensorflow:Assets written to: ram://06fe80de-0c23-42cb-a565-c3372a3cc4b2/assets\n"
          ]
        },
        {
          "name": "stderr",
          "output_type": "stream",
          "text": [
            "INFO:tensorflow:Assets written to: ram://06fe80de-0c23-42cb-a565-c3372a3cc4b2/assets\n",
            "WARNING:absl:Found untraced functions such as lstm_cell_318_layer_call_fn, lstm_cell_318_layer_call_and_return_conditional_losses, lstm_cell_319_layer_call_fn, lstm_cell_319_layer_call_and_return_conditional_losses while saving (showing 4 of 4). These functions will not be directly callable after loading.\n"
          ]
        },
        {
          "name": "stdout",
          "output_type": "stream",
          "text": [
            "INFO:tensorflow:Assets written to: ram://362a9347-052c-4e93-8967-f0b5d35a118e/assets\n"
          ]
        },
        {
          "name": "stderr",
          "output_type": "stream",
          "text": [
            "INFO:tensorflow:Assets written to: ram://362a9347-052c-4e93-8967-f0b5d35a118e/assets\n",
            "WARNING:absl:Found untraced functions such as lstm_cell_320_layer_call_fn, lstm_cell_320_layer_call_and_return_conditional_losses, lstm_cell_321_layer_call_fn, lstm_cell_321_layer_call_and_return_conditional_losses while saving (showing 4 of 4). These functions will not be directly callable after loading.\n"
          ]
        },
        {
          "name": "stdout",
          "output_type": "stream",
          "text": [
            "INFO:tensorflow:Assets written to: ram://988eeac0-34d0-4618-ba35-d6c775167cfe/assets\n"
          ]
        },
        {
          "name": "stderr",
          "output_type": "stream",
          "text": [
            "INFO:tensorflow:Assets written to: ram://988eeac0-34d0-4618-ba35-d6c775167cfe/assets\n",
            "WARNING:absl:Found untraced functions such as lstm_cell_322_layer_call_fn, lstm_cell_322_layer_call_and_return_conditional_losses, lstm_cell_323_layer_call_fn, lstm_cell_323_layer_call_and_return_conditional_losses while saving (showing 4 of 4). These functions will not be directly callable after loading.\n"
          ]
        },
        {
          "name": "stdout",
          "output_type": "stream",
          "text": [
            "INFO:tensorflow:Assets written to: ram://7f6e79da-4084-46cf-93db-202d906f4606/assets\n"
          ]
        },
        {
          "name": "stderr",
          "output_type": "stream",
          "text": [
            "INFO:tensorflow:Assets written to: ram://7f6e79da-4084-46cf-93db-202d906f4606/assets\n"
          ]
        },
        {
          "name": "stdout",
          "output_type": "stream",
          "text": [
            "✅ Resultados guardados como Pickle (lista de diccionarios).\n",
            "✅ Top 10 modelos guardados como CSV.\n"
          ]
        }
      ],
      "source": [
        "import joblib\n",
        "\n",
        "# Guarda el modelo entrenado\n",
        "joblib.dump(modelo_entrenado, 'modelo_entrenado.pkl')\n",
        "\n",
        "joblib.dump(mi_pipeline, 'pipeline_modelo_completo.pkl')\n"
      ]
    },
    {
      "cell_type": "code",
      "execution_count": null,
      "metadata": {
        "id": "oqBYG80-ib84",
        "outputId": "ef0e887f-97c8-4164-faba-980d047dd4f7"
      },
      "outputs": [
        {
          "name": "stdout",
          "output_type": "stream",
          "text": [
            "📌 Directorio actual: c:\\Users\\DELL\\Desktop\\Aprendizaje_de_Maquina\\jbook_Proyecto_Final_Clasificacion\\Template_Jupyter_Book\n"
          ]
        }
      ],
      "source": [
        "import os\n",
        "print(\"📌 Directorio actual:\", os.getcwd())"
      ]
    }
  ],
  "metadata": {
    "colab": {
      "provenance": []
    },
    "kernelspec": {
      "display_name": "KrakenData",
      "language": "python",
      "name": "python3"
    },
    "language_info": {
      "codemirror_mode": {
        "name": "ipython",
        "version": 3
      },
      "file_extension": ".py",
      "mimetype": "text/x-python",
      "name": "python",
      "nbconvert_exporter": "python",
      "pygments_lexer": "ipython3",
      "version": "3.9.21"
    }
  },
  "nbformat": 4,
  "nbformat_minor": 0
}