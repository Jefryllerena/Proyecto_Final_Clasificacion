{
 "cells": [
  {
   "cell_type": "markdown",
   "id": "36b7eafd",
   "metadata": {},
   "source": [
    "# 3. Regresión Ridge y Lasso"
   ]
  }
 ],
 "metadata": {},
 "nbformat": 4,
 "nbformat_minor": 5
}
