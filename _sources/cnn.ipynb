{
 "cells": [
  {
   "cell_type": "markdown",
   "id": "99c87dfa",
   "metadata": {},
   "source": [
    "<h1 style=\"\n",
    "  background: linear-gradient(to right,rgb(0, 0, 108),rgb(159, 207, 255));\n",
    "  -webkit-background-clip: text;\n",
    "  -webkit-text-fill-color: transparent;\n",
    "  font-size: 38px;\n",
    "  font-weight: bold;\n",
    "\">\n",
    "  11. Redes Neuronales Convolucionales\n",
    "</h1>"
   ]
  }
 ],
 "metadata": {
  "language_info": {
   "name": "python"
  }
 },
 "nbformat": 4,
 "nbformat_minor": 5
}
