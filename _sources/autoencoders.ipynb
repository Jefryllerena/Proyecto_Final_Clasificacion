{
 "cells": [
  {
   "cell_type": "markdown",
   "id": "37b92a5c",
   "metadata": {},
   "source": [
    "<h1 style=\"\n",
    "  background: linear-gradient(to right,rgb(0, 0, 108),rgb(159, 207, 255));\n",
    "  -webkit-background-clip: text;\n",
    "  -webkit-text-fill-color: transparent;\n",
    "  font-size: 38px;\n",
    "  font-weight: bold;\n",
    "\">\n",
    "  12. Redes Neuronales Autoencoders\n",
    "</h1>"
   ]
  }
 ],
 "metadata": {
  "language_info": {
   "name": "python"
  }
 },
 "nbformat": 4,
 "nbformat_minor": 5
}
